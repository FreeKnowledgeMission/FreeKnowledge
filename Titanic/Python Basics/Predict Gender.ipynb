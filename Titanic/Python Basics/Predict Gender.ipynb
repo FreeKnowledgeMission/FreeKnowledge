{
 "cells": [
  {
   "cell_type": "code",
<<<<<<< HEAD
   "execution_count": 10,
   "metadata": {},
   "outputs": [
    {
     "ename": "SyntaxError",
     "evalue": "invalid syntax (<ipython-input-10-5d8dea2859dd>, line 11)",
     "output_type": "error",
     "traceback": [
      "\u001b[0;36m  File \u001b[0;32m\"<ipython-input-10-5d8dea2859dd>\"\u001b[0;36m, line \u001b[0;32m11\u001b[0m\n\u001b[0;31m    print train[\"Result\"].value_counts()\u001b[0m\n\u001b[0m              ^\u001b[0m\n\u001b[0;31mSyntaxError\u001b[0m\u001b[0;31m:\u001b[0m invalid syntax\n"
=======
   "execution_count": 32,
   "metadata": {},
   "outputs": [
    {
     "name": "stdout",
     "output_type": "stream",
     "text": [
      "0 Deceased and 1 Survived\n",
      "0    549\n",
      "1    342\n",
      "Name: Survived, dtype: int64\n"
>>>>>>> origin/master
     ]
    }
   ],
   "source": [
    "import pandas as pd\n",
    "train = pd.read_csv(\"train.csv\")\n",
    "test = pd.read_csv(\"test.csv\")\n",
    "print(\"0 Deceased and 1 Survived\")\n",
    "print(train[\"Survived\"].value_counts())"
   ]
  },
  {
   "cell_type": "code",
   "execution_count": 34,
   "metadata": {},
   "outputs": [
    {
     "name": "stdout",
     "output_type": "stream",
     "text": [
      "\n",
      "percentage 0 Deceased and 1 Survived\n",
      "0    0.616162\n",
      "1    0.383838\n",
      "Name: Survived, dtype: float64\n"
     ]
    }
   ],
   "source": [
    "print(\"percentage 0 Deceased and 1 Survived\")\n",
    "print(train[\"Survived\"].value_counts(normalize = True))"
   ]
  },
  {
   "cell_type": "code",
   "execution_count": 35,
   "metadata": {},
   "outputs": [
    {
     "name": "stdout",
     "output_type": "stream",
     "text": [
      "\n",
      "Males survived\n",
      "0    0.811092\n",
      "1    0.188908\n",
      "Name: Survived, dtype: float64\n"
     ]
    }
   ],
   "source": [
    "print (\"Males survived\")\n",
    "print(train[\"Survived\"][train[\"Sex\"] == \"male\"].value_counts(normalize = True))"
   ]
  },
  {
   "cell_type": "code",
   "execution_count": 38,
   "metadata": {},
   "outputs": [
    {
     "name": "stdout",
     "output_type": "stream",
     "text": [
      "Females survived 0 Deceased and 1 Survived\n",
      "1    0.742038\n",
      "0    0.257962\n",
      "Name: Survived, dtype: float64\n"
     ]
    }
   ],
   "source": [
    "print(\"Females survived 0 Deceased and 1 Survived\")\n",
    "print(train[\"Survived\"][train[\"Sex\"] == \"female\"].value_counts(normalize = True))"
   ]
  },
  {
   "cell_type": "code",
   "execution_count": 39,
   "metadata": {},
   "outputs": [
    {
     "name": "stdout",
     "output_type": "stream",
     "text": [
      "Adding a new child column\n",
      "Children survived 0 Deceased and 1 Survived\n",
      "1    0.539823\n",
      "0    0.460177\n",
      "Name: Survived, dtype: float64\n"
     ]
    }
   ],
   "source": [
    "print(\"Adding a new child column\")\n",
    "train[\"Child\"] = float('NaN')\n",
    "train.loc[train[\"Age\"] >= 18, \"Child\"] = 0\n",
    "train.loc[train[\"Age\"] < 18, \"Child\"] = 1\n",
    "print(\"Children survived 0 Deceased and 1 Survived\")\n",
    "print(train[\"Survived\"][train[\"Child\"] == 1].value_counts(normalize = True))"
   ]
  },
  {
   "cell_type": "code",
   "execution_count": 30,
   "metadata": {},
   "outputs": [
    {
     "name": "stdout",
     "output_type": "stream",
     "text": [
      "\n",
      "Predict 1 if female and 0 if male\n"
     ]
    }
   ],
   "source": [
    "print(\"Predict 1 if female and 0 if male\")\n",
    "test_one = test\n",
    "test_one[\"Survived\"] = 0\n",
    "test_one.loc[test_one[\"Sex\"] == 'female', \"Survived\"] = 1\n",
    "test_one.to_csv(\"gender_model.csv\", index = False, columns = [\"PassengerId\", \"Survived\"])"
   ]
  },
  {
   "cell_type": "code",
   "execution_count": 44,
   "metadata": {},
   "outputs": [
    {
     "name": "stdout",
     "output_type": "stream",
     "text": [
      "Check how accurate this model is on training set\n",
      "1    701\n",
      "0    190\n",
      "Name: Result, dtype: int64\n"
     ]
    }
   ],
   "source": [
    "print(\"Check how accurate this model is on training set\")\n",
    "train[\"Hyp\"] = 0\n",
    "train.loc[train[\"Sex\"] == \"female\", \"Hyp\"] = 1\n",
    "train[\"Result\"] = 0\n",
    "train.loc[train[\"Hyp\"] == train[\"Survived\"], \"Result\"] = 1\n",
    "print(train[\"Result\"].value_counts())"
   ]
  },
  {
   "cell_type": "code",
   "execution_count": null,
   "metadata": {
    "collapsed": true
   },
   "outputs": [],
   "source": []
  }
 ],
 "metadata": {
  "kernelspec": {
   "display_name": "Python 3",
   "language": "python",
   "name": "python3"
  },
  "language_info": {
   "codemirror_mode": {
    "name": "ipython",
    "version": 3
   },
   "file_extension": ".py",
   "mimetype": "text/x-python",
   "name": "python",
   "nbconvert_exporter": "python",
   "pygments_lexer": "ipython3",
   "version": "3.6.1"
  }
 },
 "nbformat": 4,
 "nbformat_minor": 2
}
