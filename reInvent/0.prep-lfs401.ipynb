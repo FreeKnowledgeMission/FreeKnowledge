{
 "cells": [
  {
   "cell_type": "markdown",
   "metadata": {},
   "source": [
    "## Dataset\n",
    "We will be using the Drug Review Dataset (Drugs.com) for this workshop.\n",
    "\n",
    "Felix Gräßer, Surya Kallumadi, Hagen Malberg, and Sebastian Zaunseder. 2018. Aspect-Based Sentiment Analysis of Drug Reviews Applying Cross-Domain and Cross-Data Learning. In Proceedings of the 2018 International Conference on Digital Health (DH '18). ACM, New York, NY, USA, 121-125. DOI: [https://dl.acm.org/citation.cfm?doid=3194658.3194677]\n",
    "\n",
    "It is a part of the UCI machine learning repository.\n",
    "\n",
    "Dua, D. and Graff, C. (2019). [UCI Machine Learning Repository](http://archive.ics.uci.edu/ml). Irvine, CA: University of California, School of Information and Computer Science.\n",
    "\n"
   ]
  },
  {
   "cell_type": "code",
   "execution_count": 1,
   "metadata": {},
   "outputs": [],
   "source": [
    "import boto3\n",
    "import pandas as pd\n",
    "import io\n",
    "import os\n",
    "import time\n",
    "import matplotlib.pyplot as plt\n",
    "import random\n",
    "import sagemaker\n",
    "from sagemaker import get_execution_role\n",
    "import json\n",
    "import csv\n",
    "import pandas as pd"
   ]
  },
  {
   "cell_type": "code",
   "execution_count": 2,
   "metadata": {},
   "outputs": [],
   "source": [
    "sagemaker_session=sagemaker.Session()\n",
    "sagemaker_bucket = sagemaker_session.default_bucket()\n",
    "bucket_name = 'lfs401-2019reinvent-public-cmh'\n",
    "source_key = 'drugsCom_raw.tsv'\n",
    "role = get_execution_role()\n",
    "\n",
    "source_prefix = 'source' \n",
    "reviews_data_prefix = 'reviews'\n",
    "\n",
    "s3_client = boto3.client('s3')\n",
    "s3 = boto3.resource('s3')\n",
    "bucket = s3.Bucket(bucket_name)"
   ]
  },
  {
   "cell_type": "markdown",
   "metadata": {},
   "source": [
    "## First, let's explore the source data"
   ]
  },
  {
   "cell_type": "code",
   "execution_count": 3,
   "metadata": {},
   "outputs": [
    {
     "name": "stdout",
     "output_type": "stream",
     "text": [
      "drugsCom_raw.tsv, size = 107.16MB\n"
     ]
    }
   ],
   "source": [
    "def file_size(size):\n",
    "    splitter = [\"B\", \"KB\", \"MB\", \"GB\", \"TB\", \"PB\"]\n",
    "    splitter_index = 0\n",
    "    while size > 1024 and splitter_index < 5:\n",
    "        splitter_index += 1\n",
    "        size = size/1024\n",
    "    size = '{:0.2f}'.format(size)\n",
    "    return '{}{}'.format(size,splitter[splitter_index])\n",
    "\n",
    "obj = s3.Object(bucket_name=bucket_name, key=source_prefix + '/' + source_key)\n",
    "obj_summary = s3.ObjectSummary(bucket_name=bucket_name, key=source_prefix + '/' + source_key)\n",
    "\n",
    "print(obj.key.split('/')[-1] +', size = '+ file_size(obj_summary.size))\n"
   ]
  },
  {
   "cell_type": "code",
   "execution_count": 4,
   "metadata": {},
   "outputs": [],
   "source": [
    "def load_data_file(file_name, prefix, index_col=None, usecols=None, parse_dates=None):\n",
    "    response = s3_client.get_object(Bucket=bucket_name, Key=prefix+'/'+file_name)\n",
    "    response_body = response[\"Body\"].read()\n",
    "    return pd.read_csv(io.BytesIO(response_body), header=0, delimiter=\"\\t\", low_memory=False,\n",
    "                      index_col=index_col, usecols=usecols, error_bad_lines=False, encoding='utf-8')"
   ]
  },
  {
   "cell_type": "code",
   "execution_count": 5,
   "metadata": {},
   "outputs": [
    {
     "name": "stdout",
     "output_type": "stream",
     "text": [
      "drugsCom_raw.tsv\n"
     ]
    },
    {
     "data": {
      "text/html": [
       "<div>\n",
       "<style scoped>\n",
       "    .dataframe tbody tr th:only-of-type {\n",
       "        vertical-align: middle;\n",
       "    }\n",
       "\n",
       "    .dataframe tbody tr th {\n",
       "        vertical-align: top;\n",
       "    }\n",
       "\n",
       "    .dataframe thead th {\n",
       "        text-align: right;\n",
       "    }\n",
       "</style>\n",
       "<table border=\"1\" class=\"dataframe\">\n",
       "  <thead>\n",
       "    <tr style=\"text-align: right;\">\n",
       "      <th></th>\n",
       "      <th>Unnamed: 0</th>\n",
       "      <th>drugName</th>\n",
       "      <th>condition</th>\n",
       "      <th>review</th>\n",
       "      <th>rating</th>\n",
       "      <th>date</th>\n",
       "      <th>usefulCount</th>\n",
       "    </tr>\n",
       "  </thead>\n",
       "  <tbody>\n",
       "    <tr>\n",
       "      <th>0</th>\n",
       "      <td>206461</td>\n",
       "      <td>Valsartan</td>\n",
       "      <td>Left Ventricular Dysfunction</td>\n",
       "      <td>\"It has no side effect, I take it in combinati...</td>\n",
       "      <td>9.0</td>\n",
       "      <td>May 20, 2012</td>\n",
       "      <td>27</td>\n",
       "    </tr>\n",
       "    <tr>\n",
       "      <th>1</th>\n",
       "      <td>95260</td>\n",
       "      <td>Guanfacine</td>\n",
       "      <td>ADHD</td>\n",
       "      <td>\"My son is halfway through his fourth week of ...</td>\n",
       "      <td>8.0</td>\n",
       "      <td>April 27, 2010</td>\n",
       "      <td>192</td>\n",
       "    </tr>\n",
       "    <tr>\n",
       "      <th>2</th>\n",
       "      <td>92703</td>\n",
       "      <td>Lybrel</td>\n",
       "      <td>Birth Control</td>\n",
       "      <td>\"I used to take another oral contraceptive, wh...</td>\n",
       "      <td>5.0</td>\n",
       "      <td>December 14, 2009</td>\n",
       "      <td>17</td>\n",
       "    </tr>\n",
       "    <tr>\n",
       "      <th>3</th>\n",
       "      <td>138000</td>\n",
       "      <td>Ortho Evra</td>\n",
       "      <td>Birth Control</td>\n",
       "      <td>\"This is my first time using any form of birth...</td>\n",
       "      <td>8.0</td>\n",
       "      <td>November 3, 2015</td>\n",
       "      <td>10</td>\n",
       "    </tr>\n",
       "    <tr>\n",
       "      <th>4</th>\n",
       "      <td>35696</td>\n",
       "      <td>Buprenorphine / naloxone</td>\n",
       "      <td>Opiate Dependence</td>\n",
       "      <td>\"Suboxone has completely turned my life around...</td>\n",
       "      <td>9.0</td>\n",
       "      <td>November 27, 2016</td>\n",
       "      <td>37</td>\n",
       "    </tr>\n",
       "  </tbody>\n",
       "</table>\n",
       "</div>"
      ],
      "text/plain": [
       "   Unnamed: 0                  drugName                     condition  \\\n",
       "0      206461                 Valsartan  Left Ventricular Dysfunction   \n",
       "1       95260                Guanfacine                          ADHD   \n",
       "2       92703                    Lybrel                 Birth Control   \n",
       "3      138000                Ortho Evra                 Birth Control   \n",
       "4       35696  Buprenorphine / naloxone             Opiate Dependence   \n",
       "\n",
       "                                              review  rating  \\\n",
       "0  \"It has no side effect, I take it in combinati...     9.0   \n",
       "1  \"My son is halfway through his fourth week of ...     8.0   \n",
       "2  \"I used to take another oral contraceptive, wh...     5.0   \n",
       "3  \"This is my first time using any form of birth...     8.0   \n",
       "4  \"Suboxone has completely turned my life around...     9.0   \n",
       "\n",
       "                date  usefulCount  \n",
       "0       May 20, 2012           27  \n",
       "1     April 27, 2010          192  \n",
       "2  December 14, 2009           17  \n",
       "3   November 3, 2015           10  \n",
       "4  November 27, 2016           37  "
      ]
     },
     "execution_count": 5,
     "metadata": {},
     "output_type": "execute_result"
    }
   ],
   "source": [
    "note = source_key\n",
    "print (note)\n",
    "notes_partial = load_data_file(note, source_prefix)\n",
    "notes_partial.head()"
   ]
  },
  {
   "cell_type": "code",
   "execution_count": 6,
   "metadata": {},
   "outputs": [
    {
     "data": {
      "text/plain": [
       "(215063, 7)"
      ]
     },
     "execution_count": 6,
     "metadata": {},
     "output_type": "execute_result"
    }
   ],
   "source": [
    "notes_partial.shape"
   ]
  },
  {
   "cell_type": "markdown",
   "metadata": {},
   "source": [
    "For the purposes of this demo, we will subselect 50 rows."
   ]
  },
  {
   "cell_type": "code",
   "execution_count": 7,
   "metadata": {},
   "outputs": [],
   "source": [
    "notes_50 = notes_partial.sample(n=50)"
   ]
  },
  {
   "cell_type": "code",
   "execution_count": 8,
   "metadata": {},
   "outputs": [
    {
     "data": {
      "text/html": [
       "<div>\n",
       "<style scoped>\n",
       "    .dataframe tbody tr th:only-of-type {\n",
       "        vertical-align: middle;\n",
       "    }\n",
       "\n",
       "    .dataframe tbody tr th {\n",
       "        vertical-align: top;\n",
       "    }\n",
       "\n",
       "    .dataframe thead th {\n",
       "        text-align: right;\n",
       "    }\n",
       "</style>\n",
       "<table border=\"1\" class=\"dataframe\">\n",
       "  <thead>\n",
       "    <tr style=\"text-align: right;\">\n",
       "      <th></th>\n",
       "      <th>Unnamed: 0</th>\n",
       "      <th>drugName</th>\n",
       "      <th>condition</th>\n",
       "      <th>review</th>\n",
       "      <th>rating</th>\n",
       "      <th>date</th>\n",
       "      <th>usefulCount</th>\n",
       "    </tr>\n",
       "  </thead>\n",
       "  <tbody>\n",
       "    <tr>\n",
       "      <th>214352</th>\n",
       "      <td>65589</td>\n",
       "      <td>Propranolol</td>\n",
       "      <td>mance Anxiety</td>\n",
       "      <td>\"41 year old female that is furious I wasted m...</td>\n",
       "      <td>10.0</td>\n",
       "      <td>November 27, 2017</td>\n",
       "      <td>5</td>\n",
       "    </tr>\n",
       "    <tr>\n",
       "      <th>29255</th>\n",
       "      <td>55663</td>\n",
       "      <td>Effexor</td>\n",
       "      <td>Depression</td>\n",
       "      <td>\"My Doctor is bad and suggested this medicine....</td>\n",
       "      <td>1.0</td>\n",
       "      <td>October 27, 2016</td>\n",
       "      <td>9</td>\n",
       "    </tr>\n",
       "    <tr>\n",
       "      <th>145414</th>\n",
       "      <td>103266</td>\n",
       "      <td>Celecoxib</td>\n",
       "      <td>Osteoarthritis</td>\n",
       "      <td>\"Ive been taking celebrex for a couple of yrs,...</td>\n",
       "      <td>1.0</td>\n",
       "      <td>November 28, 2016</td>\n",
       "      <td>23</td>\n",
       "    </tr>\n",
       "    <tr>\n",
       "      <th>75188</th>\n",
       "      <td>172222</td>\n",
       "      <td>Clonazepam</td>\n",
       "      <td>Panic Disorde</td>\n",
       "      <td>\"I  am thankful for  this medication clonazepa...</td>\n",
       "      <td>10.0</td>\n",
       "      <td>October 8, 2017</td>\n",
       "      <td>9</td>\n",
       "    </tr>\n",
       "    <tr>\n",
       "      <th>134329</th>\n",
       "      <td>113942</td>\n",
       "      <td>Amlodipine</td>\n",
       "      <td>High Blood Pressure</td>\n",
       "      <td>\"I have been taking Norvasc for probably 30 ye...</td>\n",
       "      <td>1.0</td>\n",
       "      <td>September 19, 2016</td>\n",
       "      <td>66</td>\n",
       "    </tr>\n",
       "  </tbody>\n",
       "</table>\n",
       "</div>"
      ],
      "text/plain": [
       "        Unnamed: 0     drugName            condition  \\\n",
       "214352       65589  Propranolol        mance Anxiety   \n",
       "29255        55663      Effexor           Depression   \n",
       "145414      103266    Celecoxib       Osteoarthritis   \n",
       "75188       172222   Clonazepam        Panic Disorde   \n",
       "134329      113942   Amlodipine  High Blood Pressure   \n",
       "\n",
       "                                                   review  rating  \\\n",
       "214352  \"41 year old female that is furious I wasted m...    10.0   \n",
       "29255   \"My Doctor is bad and suggested this medicine....     1.0   \n",
       "145414  \"Ive been taking celebrex for a couple of yrs,...     1.0   \n",
       "75188   \"I  am thankful for  this medication clonazepa...    10.0   \n",
       "134329  \"I have been taking Norvasc for probably 30 ye...     1.0   \n",
       "\n",
       "                      date  usefulCount  \n",
       "214352   November 27, 2017            5  \n",
       "29255     October 27, 2016            9  \n",
       "145414   November 28, 2016           23  \n",
       "75188      October 8, 2017            9  \n",
       "134329  September 19, 2016           66  "
      ]
     },
     "execution_count": 8,
     "metadata": {},
     "output_type": "execute_result"
    }
   ],
   "source": [
    "notes_50.head()"
   ]
  },
  {
   "cell_type": "markdown",
   "metadata": {},
   "source": [
    "## Next, pick the number of topics to use\n",
    "\n",
    "Now that we have loaded the file, we will pick the number of topics to use. This has three steps:\n",
    "1. Use Amazon Comprehend Medical to identify topics in each review.\n",
    "2. Plot the distribution of the number of topics\n",
    "3. Randomly select the topics from each column\n"
   ]
  },
  {
   "cell_type": "markdown",
   "metadata": {},
   "source": [
    "#### Step 1: Identify topics"
   ]
  },
  {
   "cell_type": "code",
   "execution_count": 9,
   "metadata": {},
   "outputs": [
    {
     "name": "stdout",
     "output_type": "stream",
     "text": [
      "214352\n",
      "29255\n",
      "145414\n",
      "75188\n",
      "134329\n",
      "40549\n",
      "83055\n",
      "138824\n",
      "196356\n",
      "66252\n",
      "56298\n",
      "89467\n",
      "13222\n",
      "181744\n",
      "211800\n",
      "180011\n",
      "144572\n",
      "209322\n",
      "73024\n",
      "54042\n",
      "79302\n",
      "40384\n",
      "60446\n",
      "92717\n",
      "48699\n",
      "137768\n",
      "211347\n",
      "86589\n",
      "29862\n",
      "199030\n",
      "144908\n",
      "40935\n",
      "96673\n",
      "134322\n",
      "201401\n",
      "164646\n",
      "168484\n",
      "119426\n",
      "214085\n",
      "77883\n",
      "211979\n",
      "164364\n",
      "138990\n",
      "175822\n",
      "203940\n",
      "202423\n",
      "469\n",
      "79748\n",
      "108630\n",
      "106534\n"
     ]
    }
   ],
   "source": [
    "topic_cnt = 1\n",
    "cm = boto3.client('comprehendmedical')\n",
    "\n",
    "topics_per_row = list()\n",
    "\n",
    "for index,row in notes_50.iterrows():\n",
    "    topic_list = []\n",
    "    \n",
    "    # For each row, use Comprehend Medical to detect entitites\n",
    "    entities = cm.detect_entities(Text=row['review'])\n",
    "    time.sleep(1)\n",
    "    \n",
    "    # Filter by Medical Condition\n",
    "    for entity in entities['Entities']:\n",
    "        if entity['Category'] == 'MEDICAL_CONDITION':\n",
    "            topic_list.append(entity['Text'])\n",
    "            topic_cnt += 1\n",
    "    topic_dict=dict(\n",
    "        Index=index,\n",
    "        DrugName=row['drugName'],\n",
    "        TopicList=topic_list\n",
    "    )\n",
    "    topics_per_row.append(topic_dict)\n",
    "    print (index)\n",
    "    \n",
    "    "
   ]
  },
  {
   "cell_type": "markdown",
   "metadata": {},
   "source": [
    "#### Sample Output"
   ]
  },
  {
   "cell_type": "code",
   "execution_count": 10,
   "metadata": {},
   "outputs": [
    {
     "data": {
      "text/plain": [
       "[{'Index': 214352,\n",
       "  'DrugName': 'Propranolol',\n",
       "  'TopicList': ['mdash', 'trauma', 'worry']},\n",
       " {'Index': 29255,\n",
       "  'DrugName': 'Effexor',\n",
       "  'TopicList': ['pain',\n",
       "   'hot flashes',\n",
       "   'menopause',\n",
       "   'vomited',\n",
       "   'hot',\n",
       "   'cold',\n",
       "   'dilated',\n",
       "   'nervous wreak',\n",
       "   'side headache',\n",
       "   'muscle ache',\n",
       "   'feeling sick']},\n",
       " {'Index': 145414,\n",
       "  'DrugName': 'Celecoxib',\n",
       "  'TopicList': ['tired',\n",
       "   'tired',\n",
       "   'fell',\n",
       "   'hit my ribs',\n",
       "   'pain',\n",
       "   'pain',\n",
       "   'side effect']},\n",
       " {'Index': 75188,\n",
       "  'DrugName': 'Clonazepam',\n",
       "  'TopicList': ['chronic',\n",
       "   'episodes',\n",
       "   'panic attack',\n",
       "   'falling',\n",
       "   'sweating',\n",
       "   'die',\n",
       "   'panic attacks']},\n",
       " {'Index': 134329,\n",
       "  'DrugName': 'Amlodipine',\n",
       "  'TopicList': ['feeling pretty good',\n",
       "   'pain',\n",
       "   'feeling pressure',\n",
       "   'migraine headaches',\n",
       "   'migraines']}]"
      ]
     },
     "execution_count": 10,
     "metadata": {},
     "output_type": "execute_result"
    }
   ],
   "source": [
    "topics_per_row[0:5]"
   ]
  },
  {
   "cell_type": "markdown",
   "metadata": {},
   "source": [
    "#### Step 2: Plot topic distribution"
   ]
  },
  {
   "cell_type": "code",
   "execution_count": 11,
   "metadata": {},
   "outputs": [
    {
     "data": {
      "text/plain": [
       "Text(0.5, 0, 'Number of topics')"
      ]
     },
     "execution_count": 11,
     "metadata": {},
     "output_type": "execute_result"
    },
    {
     "data": {
      "image/png": "[encoded data removed]",
      "text/plain": [
       "<Figure size 432x288 with 1 Axes>"
      ]
     },
     "metadata": {},
     "output_type": "display_data"
    }
   ],
   "source": [
    "topic_count = [ len(_['TopicList']) for _ in topics_per_row]\n",
    "plt.hist(topic_count,bins=20,label='Topic Count')\n",
    "plt.xlabel('Number of topics')"
   ]
  },
  {
   "cell_type": "markdown",
   "metadata": {},
   "source": [
    "#### Step 3: Create topic list and review the output. In this example, we only use reviews with at least 5 germane topics"
   ]
  },
  {
   "cell_type": "code",
   "execution_count": 12,
   "metadata": {},
   "outputs": [],
   "source": [
    "reviews=pd.DataFrame(columns=['drugName','topic1','topic2','topic3','topic4','topic5'])\n",
    "min_topic_len = 5\n",
    "\n",
    "for row in topics_per_row:\n",
    "    topic_list = row['TopicList']\n",
    "    if len(topic_list) >= min_topic_len:\n",
    "        # Randomly select topics\n",
    "        random_topics = random.choices(topic_list, k=min_topic_len)\n",
    "        reviews=reviews.append({\n",
    "            'drugName' : row['DrugName'],\n",
    "            'topic1' : str(random_topics[0]),\n",
    "            'topic2' : str(random_topics[1]),\n",
    "            'topic3' : str(random_topics[2]),\n",
    "            'topic4' : str(random_topics[3]),\n",
    "            'topic5' : str(random_topics[4])},\n",
    "            ignore_index=True)"
   ]
  },
  {
   "cell_type": "code",
   "execution_count": 13,
   "metadata": {},
   "outputs": [
    {
     "data": {
      "text/html": [
       "<div>\n",
       "<style scoped>\n",
       "    .dataframe tbody tr th:only-of-type {\n",
       "        vertical-align: middle;\n",
       "    }\n",
       "\n",
       "    .dataframe tbody tr th {\n",
       "        vertical-align: top;\n",
       "    }\n",
       "\n",
       "    .dataframe thead th {\n",
       "        text-align: right;\n",
       "    }\n",
       "</style>\n",
       "<table border=\"1\" class=\"dataframe\">\n",
       "  <thead>\n",
       "    <tr style=\"text-align: right;\">\n",
       "      <th></th>\n",
       "      <th>drugName</th>\n",
       "      <th>topic1</th>\n",
       "      <th>topic2</th>\n",
       "      <th>topic3</th>\n",
       "      <th>topic4</th>\n",
       "      <th>topic5</th>\n",
       "    </tr>\n",
       "  </thead>\n",
       "  <tbody>\n",
       "    <tr>\n",
       "      <th>0</th>\n",
       "      <td>Effexor</td>\n",
       "      <td>vomited</td>\n",
       "      <td>nervous wreak</td>\n",
       "      <td>feeling sick</td>\n",
       "      <td>muscle ache</td>\n",
       "      <td>feeling sick</td>\n",
       "    </tr>\n",
       "    <tr>\n",
       "      <th>1</th>\n",
       "      <td>Celecoxib</td>\n",
       "      <td>pain</td>\n",
       "      <td>tired</td>\n",
       "      <td>fell</td>\n",
       "      <td>side effect</td>\n",
       "      <td>tired</td>\n",
       "    </tr>\n",
       "    <tr>\n",
       "      <th>2</th>\n",
       "      <td>Clonazepam</td>\n",
       "      <td>sweating</td>\n",
       "      <td>die</td>\n",
       "      <td>panic attack</td>\n",
       "      <td>episodes</td>\n",
       "      <td>episodes</td>\n",
       "    </tr>\n",
       "    <tr>\n",
       "      <th>3</th>\n",
       "      <td>Amlodipine</td>\n",
       "      <td>migraine headaches</td>\n",
       "      <td>pain</td>\n",
       "      <td>migraine headaches</td>\n",
       "      <td>pain</td>\n",
       "      <td>migraine headaches</td>\n",
       "    </tr>\n",
       "    <tr>\n",
       "      <th>4</th>\n",
       "      <td>Ganciclovir</td>\n",
       "      <td>infection</td>\n",
       "      <td>infection</td>\n",
       "      <td>difficult to get the drop</td>\n",
       "      <td>sensitive to light</td>\n",
       "      <td>difficult to get the drop</td>\n",
       "    </tr>\n",
       "  </tbody>\n",
       "</table>\n",
       "</div>"
      ],
      "text/plain": [
       "      drugName              topic1         topic2                     topic3  \\\n",
       "0      Effexor             vomited  nervous wreak               feeling sick   \n",
       "1    Celecoxib                pain          tired                       fell   \n",
       "2   Clonazepam            sweating            die               panic attack   \n",
       "3   Amlodipine  migraine headaches           pain         migraine headaches   \n",
       "4  Ganciclovir           infection      infection  difficult to get the drop   \n",
       "\n",
       "               topic4                     topic5  \n",
       "0         muscle ache               feeling sick  \n",
       "1         side effect                      tired  \n",
       "2            episodes                   episodes  \n",
       "3                pain         migraine headaches  \n",
       "4  sensitive to light  difficult to get the drop  "
      ]
     },
     "execution_count": 13,
     "metadata": {},
     "output_type": "execute_result"
    }
   ],
   "source": [
    "reviews.head()"
   ]
  },
  {
   "cell_type": "markdown",
   "metadata": {},
   "source": [
    "*Now get the number of reviews that met the criteria*"
   ]
  },
  {
   "cell_type": "code",
   "execution_count": 14,
   "metadata": {},
   "outputs": [
    {
     "data": {
      "text/plain": [
       "(21, 6)"
      ]
     },
     "execution_count": 14,
     "metadata": {},
     "output_type": "execute_result"
    }
   ],
   "source": [
    "reviews.shape\n"
   ]
  },
  {
   "cell_type": "markdown",
   "metadata": {},
   "source": [
    "#### Now that the topics have been generated, save a CSV on both local disk as well as Amazon S3"
   ]
  },
  {
   "cell_type": "code",
   "execution_count": 15,
   "metadata": {},
   "outputs": [],
   "source": [
    "reviews.to_csv('reviews_50.csv',header=True, index=False)"
   ]
  },
  {
   "cell_type": "code",
   "execution_count": 16,
   "metadata": {
    "scrolled": true
   },
   "outputs": [],
   "source": [
    "s3_client.upload_file('reviews_50.csv', sagemaker_bucket, reviews_data_prefix+'/reviews_50.csv' )"
   ]
  },
  {
   "cell_type": "markdown",
   "metadata": {},
   "source": [
    "# Batch preparation of drug name/topics\n",
    "\n",
    "Running a large number of calls serially through Amazon Comprehend Medical is, of course, inefficent. Comprehend Medical gives you the ability to batch process millions of notes in a single API call. For a high level overview, see https://aws.amazon.com/blogs/aws/introducing-batch-mode-processing-for-amazon-comprehend-medical/.\n",
    "\n",
    "## N.B. If you run the Comprehend Medical batch calculation across the entire dataset, you may incure charges, and the full analysis will complete after this workshop is complete. Do not do this as part of the workshop. We have provided files for you.\n",
    "\n",
    "Here are the steps to do this for this data set:\n",
    "1. For each line, extract the review and convert it to a JSON file named `<drug_id>.json` with the form `{\"Text\": \"...review...\"}`.\n",
    "2. Upload each of the files to S3 with a shared key space. For example: \n",
    "```\n",
    "lfs401-data/json/112.json\n",
    "lfs401-data/json/3528.json\n",
    "```\n",
    "3. Use Amazon Comprehend Medical Batch Mode to process the files. You can either use the console or the Comprehend Medical API. Save the output to a different key space. The job is submitted asynchronously so you can poll for the job status.\n",
    "4. Once the job is complete, you can access all the files in S3. Pull them back down to your instance to continue.\n",
    "\n",
    "\n",
    "## The post-processing is covered below. Resume with the following cell.\n",
    "\n"
   ]
  },
  {
   "cell_type": "markdown",
   "metadata": {},
   "source": [
    "Download the output zip file from S3 and get the output path."
   ]
  },
  {
   "cell_type": "code",
   "execution_count": 17,
   "metadata": {},
   "outputs": [
    {
     "data": {
      "text/plain": [
       "'/home/ec2-user/SageMaker'"
      ]
     },
     "execution_count": 17,
     "metadata": {},
     "output_type": "execute_result"
    }
   ],
   "source": [
    "os.getcwd()"
   ]
  },
  {
   "cell_type": "code",
   "execution_count": 18,
   "metadata": {},
   "outputs": [
    {
     "name": "stdout",
     "output_type": "stream",
     "text": [
      "Completed 256.0 KiB/46.9 MiB (3.3 MiB/s) with 1 file(s) remaining\r",
      "Completed 512.0 KiB/46.9 MiB (6.4 MiB/s) with 1 file(s) remaining\r",
      "Completed 768.0 KiB/46.9 MiB (9.2 MiB/s) with 1 file(s) remaining\r",
      "Completed 1.0 MiB/46.9 MiB (10.6 MiB/s) with 1 file(s) remaining \r",
      "Completed 1.2 MiB/46.9 MiB (12.9 MiB/s) with 1 file(s) remaining \r",
      "Completed 1.5 MiB/46.9 MiB (15.3 MiB/s) with 1 file(s) remaining \r",
      "Completed 1.8 MiB/46.9 MiB (17.4 MiB/s) with 1 file(s) remaining \r",
      "Completed 2.0 MiB/46.9 MiB (19.5 MiB/s) with 1 file(s) remaining \r",
      "Completed 2.2 MiB/46.9 MiB (21.5 MiB/s) with 1 file(s) remaining \r",
      "Completed 2.5 MiB/46.9 MiB (23.4 MiB/s) with 1 file(s) remaining \r",
      "Completed 2.8 MiB/46.9 MiB (24.9 MiB/s) with 1 file(s) remaining \r",
      "Completed 3.0 MiB/46.9 MiB (26.9 MiB/s) with 1 file(s) remaining \r",
      "Completed 3.2 MiB/46.9 MiB (28.4 MiB/s) with 1 file(s) remaining \r",
      "Completed 3.5 MiB/46.9 MiB (30.3 MiB/s) with 1 file(s) remaining \r",
      "Completed 3.8 MiB/46.9 MiB (30.7 MiB/s) with 1 file(s) remaining \r",
      "Completed 4.0 MiB/46.9 MiB (32.4 MiB/s) with 1 file(s) remaining \r",
      "Completed 4.2 MiB/46.9 MiB (33.7 MiB/s) with 1 file(s) remaining \r",
      "Completed 4.5 MiB/46.9 MiB (35.2 MiB/s) with 1 file(s) remaining \r",
      "Completed 4.8 MiB/46.9 MiB (35.8 MiB/s) with 1 file(s) remaining \r",
      "Completed 5.0 MiB/46.9 MiB (37.1 MiB/s) with 1 file(s) remaining \r",
      "Completed 5.2 MiB/46.9 MiB (38.7 MiB/s) with 1 file(s) remaining \r",
      "Completed 5.5 MiB/46.9 MiB (39.8 MiB/s) with 1 file(s) remaining \r",
      "Completed 5.8 MiB/46.9 MiB (41.0 MiB/s) with 1 file(s) remaining \r",
      "Completed 6.0 MiB/46.9 MiB (42.4 MiB/s) with 1 file(s) remaining \r",
      "Completed 6.2 MiB/46.9 MiB (43.8 MiB/s) with 1 file(s) remaining \r",
      "Completed 6.5 MiB/46.9 MiB (44.1 MiB/s) with 1 file(s) remaining \r",
      "Completed 6.8 MiB/46.9 MiB (44.6 MiB/s) with 1 file(s) remaining \r",
      "Completed 7.0 MiB/46.9 MiB (46.0 MiB/s) with 1 file(s) remaining \r",
      "Completed 7.2 MiB/46.9 MiB (47.2 MiB/s) with 1 file(s) remaining \r",
      "Completed 7.5 MiB/46.9 MiB (47.7 MiB/s) with 1 file(s) remaining \r",
      "Completed 7.8 MiB/46.9 MiB (49.0 MiB/s) with 1 file(s) remaining \r",
      "Completed 8.0 MiB/46.9 MiB (50.2 MiB/s) with 1 file(s) remaining \r",
      "Completed 8.2 MiB/46.9 MiB (51.5 MiB/s) with 1 file(s) remaining \r",
      "Completed 8.5 MiB/46.9 MiB (52.7 MiB/s) with 1 file(s) remaining \r",
      "Completed 8.8 MiB/46.9 MiB (52.9 MiB/s) with 1 file(s) remaining \r",
      "Completed 9.0 MiB/46.9 MiB (53.9 MiB/s) with 1 file(s) remaining \r",
      "Completed 9.2 MiB/46.9 MiB (54.0 MiB/s) with 1 file(s) remaining \r",
      "Completed 9.5 MiB/46.9 MiB (55.1 MiB/s) with 1 file(s) remaining \r",
      "Completed 9.8 MiB/46.9 MiB (56.0 MiB/s) with 1 file(s) remaining \r",
      "Completed 10.0 MiB/46.9 MiB (56.1 MiB/s) with 1 file(s) remaining\r",
      "Completed 10.2 MiB/46.9 MiB (56.9 MiB/s) with 1 file(s) remaining\r",
      "Completed 10.5 MiB/46.9 MiB (57.9 MiB/s) with 1 file(s) remaining\r",
      "Completed 10.8 MiB/46.9 MiB (58.4 MiB/s) with 1 file(s) remaining\r",
      "Completed 11.0 MiB/46.9 MiB (59.6 MiB/s) with 1 file(s) remaining\r",
      "Completed 11.2 MiB/46.9 MiB (60.6 MiB/s) with 1 file(s) remaining\r",
      "Completed 11.5 MiB/46.9 MiB (61.0 MiB/s) with 1 file(s) remaining\r",
      "Completed 11.8 MiB/46.9 MiB (61.7 MiB/s) with 1 file(s) remaining\r",
      "Completed 12.0 MiB/46.9 MiB (61.3 MiB/s) with 1 file(s) remaining\r",
      "Completed 12.2 MiB/46.9 MiB (62.3 MiB/s) with 1 file(s) remaining\r",
      "Completed 12.5 MiB/46.9 MiB (63.1 MiB/s) with 1 file(s) remaining\r",
      "Completed 12.8 MiB/46.9 MiB (63.1 MiB/s) with 1 file(s) remaining\r",
      "Completed 13.0 MiB/46.9 MiB (64.1 MiB/s) with 1 file(s) remaining\r",
      "Completed 13.2 MiB/46.9 MiB (65.0 MiB/s) with 1 file(s) remaining\r",
      "Completed 13.5 MiB/46.9 MiB (65.2 MiB/s) with 1 file(s) remaining\r",
      "Completed 13.8 MiB/46.9 MiB (65.8 MiB/s) with 1 file(s) remaining\r",
      "Completed 14.0 MiB/46.9 MiB (66.7 MiB/s) with 1 file(s) remaining\r",
      "Completed 14.2 MiB/46.9 MiB (67.4 MiB/s) with 1 file(s) remaining\r",
      "Completed 14.5 MiB/46.9 MiB (67.2 MiB/s) with 1 file(s) remaining\r",
      "Completed 14.8 MiB/46.9 MiB (68.0 MiB/s) with 1 file(s) remaining\r",
      "Completed 15.0 MiB/46.9 MiB (68.9 MiB/s) with 1 file(s) remaining\r",
      "Completed 15.2 MiB/46.9 MiB (68.7 MiB/s) with 1 file(s) remaining\r",
      "Completed 15.5 MiB/46.9 MiB (69.6 MiB/s) with 1 file(s) remaining\r",
      "Completed 15.8 MiB/46.9 MiB (70.2 MiB/s) with 1 file(s) remaining\r",
      "Completed 16.0 MiB/46.9 MiB (69.8 MiB/s) with 1 file(s) remaining\r",
      "Completed 16.2 MiB/46.9 MiB (70.5 MiB/s) with 1 file(s) remaining\r",
      "Completed 16.5 MiB/46.9 MiB (71.4 MiB/s) with 1 file(s) remaining\r",
      "Completed 16.8 MiB/46.9 MiB (70.9 MiB/s) with 1 file(s) remaining\r",
      "Completed 17.0 MiB/46.9 MiB (71.5 MiB/s) with 1 file(s) remaining\r",
      "Completed 17.2 MiB/46.9 MiB (71.7 MiB/s) with 1 file(s) remaining\r",
      "Completed 17.5 MiB/46.9 MiB (71.7 MiB/s) with 1 file(s) remaining\r",
      "Completed 17.8 MiB/46.9 MiB (72.6 MiB/s) with 1 file(s) remaining\r",
      "Completed 18.0 MiB/46.9 MiB (72.6 MiB/s) with 1 file(s) remaining\r",
      "Completed 18.2 MiB/46.9 MiB (73.3 MiB/s) with 1 file(s) remaining\r",
      "Completed 18.5 MiB/46.9 MiB (73.9 MiB/s) with 1 file(s) remaining\r",
      "Completed 18.8 MiB/46.9 MiB (74.6 MiB/s) with 1 file(s) remaining\r",
      "Completed 19.0 MiB/46.9 MiB (75.2 MiB/s) with 1 file(s) remaining\r",
      "Completed 19.2 MiB/46.9 MiB (76.0 MiB/s) with 1 file(s) remaining\r",
      "Completed 19.5 MiB/46.9 MiB (75.2 MiB/s) with 1 file(s) remaining\r",
      "Completed 19.8 MiB/46.9 MiB (76.0 MiB/s) with 1 file(s) remaining\r",
      "Completed 20.0 MiB/46.9 MiB (76.1 MiB/s) with 1 file(s) remaining\r",
      "Completed 20.2 MiB/46.9 MiB (75.8 MiB/s) with 1 file(s) remaining\r",
      "Completed 20.5 MiB/46.9 MiB (76.6 MiB/s) with 1 file(s) remaining\r",
      "Completed 20.8 MiB/46.9 MiB (76.0 MiB/s) with 1 file(s) remaining\r",
      "Completed 21.0 MiB/46.9 MiB (76.7 MiB/s) with 1 file(s) remaining\r",
      "Completed 21.2 MiB/46.9 MiB (77.4 MiB/s) with 1 file(s) remaining\r",
      "Completed 21.5 MiB/46.9 MiB (78.1 MiB/s) with 1 file(s) remaining\r",
      "Completed 21.8 MiB/46.9 MiB (78.8 MiB/s) with 1 file(s) remaining\r",
      "Completed 22.0 MiB/46.9 MiB (79.1 MiB/s) with 1 file(s) remaining\r",
      "Completed 22.2 MiB/46.9 MiB (78.9 MiB/s) with 1 file(s) remaining\r",
      "Completed 22.5 MiB/46.9 MiB (79.4 MiB/s) with 1 file(s) remaining\r",
      "Completed 22.8 MiB/46.9 MiB (79.7 MiB/s) with 1 file(s) remaining\r",
      "Completed 23.0 MiB/46.9 MiB (79.5 MiB/s) with 1 file(s) remaining\r",
      "Completed 23.2 MiB/46.9 MiB (79.7 MiB/s) with 1 file(s) remaining\r",
      "Completed 23.5 MiB/46.9 MiB (79.9 MiB/s) with 1 file(s) remaining\r",
      "Completed 23.8 MiB/46.9 MiB (80.5 MiB/s) with 1 file(s) remaining\r",
      "Completed 24.0 MiB/46.9 MiB (80.7 MiB/s) with 1 file(s) remaining\r",
      "Completed 24.2 MiB/46.9 MiB (81.1 MiB/s) with 1 file(s) remaining\r",
      "Completed 24.5 MiB/46.9 MiB (80.5 MiB/s) with 1 file(s) remaining\r",
      "Completed 24.8 MiB/46.9 MiB (81.1 MiB/s) with 1 file(s) remaining\r",
      "Completed 25.0 MiB/46.9 MiB (81.4 MiB/s) with 1 file(s) remaining\r",
      "Completed 25.2 MiB/46.9 MiB (81.2 MiB/s) with 1 file(s) remaining\r",
      "Completed 25.5 MiB/46.9 MiB (81.4 MiB/s) with 1 file(s) remaining\r",
      "Completed 25.8 MiB/46.9 MiB (81.7 MiB/s) with 1 file(s) remaining\r",
      "Completed 26.0 MiB/46.9 MiB (81.9 MiB/s) with 1 file(s) remaining\r",
      "Completed 26.2 MiB/46.9 MiB (82.1 MiB/s) with 1 file(s) remaining\r",
      "Completed 26.5 MiB/46.9 MiB (82.7 MiB/s) with 1 file(s) remaining\r",
      "Completed 26.8 MiB/46.9 MiB (82.7 MiB/s) with 1 file(s) remaining\r",
      "Completed 27.0 MiB/46.9 MiB (83.2 MiB/s) with 1 file(s) remaining\r",
      "Completed 27.2 MiB/46.9 MiB (83.8 MiB/s) with 1 file(s) remaining\r",
      "Completed 27.5 MiB/46.9 MiB (84.0 MiB/s) with 1 file(s) remaining\r",
      "Completed 27.8 MiB/46.9 MiB (84.6 MiB/s) with 1 file(s) remaining\r",
      "Completed 28.0 MiB/46.9 MiB (84.8 MiB/s) with 1 file(s) remaining\r",
      "Completed 28.2 MiB/46.9 MiB (84.4 MiB/s) with 1 file(s) remaining\r",
      "Completed 28.4 MiB/46.9 MiB (84.7 MiB/s) with 1 file(s) remaining\r",
      "Completed 28.7 MiB/46.9 MiB (85.1 MiB/s) with 1 file(s) remaining\r",
      "Completed 28.9 MiB/46.9 MiB (85.2 MiB/s) with 1 file(s) remaining\r",
      "Completed 29.2 MiB/46.9 MiB (84.8 MiB/s) with 1 file(s) remaining\r",
      "Completed 29.4 MiB/46.9 MiB (85.2 MiB/s) with 1 file(s) remaining\r",
      "Completed 29.7 MiB/46.9 MiB (85.9 MiB/s) with 1 file(s) remaining\r",
      "Completed 29.9 MiB/46.9 MiB (86.2 MiB/s) with 1 file(s) remaining\r",
      "Completed 30.2 MiB/46.9 MiB (86.7 MiB/s) with 1 file(s) remaining\r",
      "Completed 30.4 MiB/46.9 MiB (85.7 MiB/s) with 1 file(s) remaining\r",
      "Completed 30.7 MiB/46.9 MiB (86.2 MiB/s) with 1 file(s) remaining\r",
      "Completed 30.9 MiB/46.9 MiB (85.7 MiB/s) with 1 file(s) remaining\r",
      "Completed 31.2 MiB/46.9 MiB (85.7 MiB/s) with 1 file(s) remaining\r",
      "Completed 31.4 MiB/46.9 MiB (86.2 MiB/s) with 1 file(s) remaining\r",
      "Completed 31.7 MiB/46.9 MiB (86.5 MiB/s) with 1 file(s) remaining\r",
      "Completed 31.9 MiB/46.9 MiB (85.9 MiB/s) with 1 file(s) remaining\r",
      "Completed 32.2 MiB/46.9 MiB (85.8 MiB/s) with 1 file(s) remaining\r",
      "Completed 32.4 MiB/46.9 MiB (86.2 MiB/s) with 1 file(s) remaining\r",
      "Completed 32.7 MiB/46.9 MiB (86.5 MiB/s) with 1 file(s) remaining\r",
      "Completed 32.9 MiB/46.9 MiB (86.0 MiB/s) with 1 file(s) remaining\r",
      "Completed 33.2 MiB/46.9 MiB (86.1 MiB/s) with 1 file(s) remaining\r",
      "Completed 33.4 MiB/46.9 MiB (86.2 MiB/s) with 1 file(s) remaining\r",
      "Completed 33.7 MiB/46.9 MiB (86.5 MiB/s) with 1 file(s) remaining\r",
      "Completed 33.9 MiB/46.9 MiB (86.3 MiB/s) with 1 file(s) remaining\r",
      "Completed 34.2 MiB/46.9 MiB (86.8 MiB/s) with 1 file(s) remaining\r",
      "Completed 34.4 MiB/46.9 MiB (86.6 MiB/s) with 1 file(s) remaining\r",
      "Completed 34.7 MiB/46.9 MiB (86.9 MiB/s) with 1 file(s) remaining\r",
      "Completed 34.9 MiB/46.9 MiB (87.3 MiB/s) with 1 file(s) remaining\r",
      "Completed 35.2 MiB/46.9 MiB (86.9 MiB/s) with 1 file(s) remaining\r",
      "Completed 35.4 MiB/46.9 MiB (87.3 MiB/s) with 1 file(s) remaining\r",
      "Completed 35.7 MiB/46.9 MiB (87.7 MiB/s) with 1 file(s) remaining\r",
      "Completed 35.9 MiB/46.9 MiB (87.6 MiB/s) with 1 file(s) remaining\r",
      "Completed 36.2 MiB/46.9 MiB (88.0 MiB/s) with 1 file(s) remaining\r",
      "Completed 36.4 MiB/46.9 MiB (88.4 MiB/s) with 1 file(s) remaining\r",
      "Completed 36.7 MiB/46.9 MiB (88.4 MiB/s) with 1 file(s) remaining\r",
      "Completed 36.9 MiB/46.9 MiB (88.8 MiB/s) with 1 file(s) remaining\r",
      "Completed 37.2 MiB/46.9 MiB (88.7 MiB/s) with 1 file(s) remaining\r",
      "Completed 37.4 MiB/46.9 MiB (89.0 MiB/s) with 1 file(s) remaining\r",
      "Completed 37.7 MiB/46.9 MiB (88.9 MiB/s) with 1 file(s) remaining\r",
      "Completed 37.9 MiB/46.9 MiB (89.3 MiB/s) with 1 file(s) remaining\r",
      "Completed 38.2 MiB/46.9 MiB (89.1 MiB/s) with 1 file(s) remaining\r",
      "Completed 38.4 MiB/46.9 MiB (89.6 MiB/s) with 1 file(s) remaining\r",
      "Completed 38.7 MiB/46.9 MiB (89.5 MiB/s) with 1 file(s) remaining\r",
      "Completed 38.9 MiB/46.9 MiB (89.9 MiB/s) with 1 file(s) remaining\r",
      "Completed 39.2 MiB/46.9 MiB (89.7 MiB/s) with 1 file(s) remaining\r",
      "Completed 39.4 MiB/46.9 MiB (90.1 MiB/s) with 1 file(s) remaining\r",
      "Completed 39.7 MiB/46.9 MiB (90.0 MiB/s) with 1 file(s) remaining\r",
      "Completed 39.9 MiB/46.9 MiB (90.4 MiB/s) with 1 file(s) remaining\r",
      "Completed 40.2 MiB/46.9 MiB (90.3 MiB/s) with 1 file(s) remaining\r",
      "Completed 40.4 MiB/46.9 MiB (90.7 MiB/s) with 1 file(s) remaining\r",
      "Completed 40.7 MiB/46.9 MiB (90.7 MiB/s) with 1 file(s) remaining\r",
      "Completed 40.9 MiB/46.9 MiB (90.6 MiB/s) with 1 file(s) remaining\r",
      "Completed 41.2 MiB/46.9 MiB (90.6 MiB/s) with 1 file(s) remaining\r",
      "Completed 41.4 MiB/46.9 MiB (90.8 MiB/s) with 1 file(s) remaining\r",
      "Completed 41.7 MiB/46.9 MiB (73.4 MiB/s) with 1 file(s) remaining\r",
      "Completed 41.9 MiB/46.9 MiB (73.5 MiB/s) with 1 file(s) remaining\r",
      "Completed 42.2 MiB/46.9 MiB (73.5 MiB/s) with 1 file(s) remaining\r",
      "Completed 42.4 MiB/46.9 MiB (73.6 MiB/s) with 1 file(s) remaining\r",
      "Completed 42.7 MiB/46.9 MiB (73.8 MiB/s) with 1 file(s) remaining\r",
      "Completed 42.9 MiB/46.9 MiB (73.9 MiB/s) with 1 file(s) remaining\r",
      "Completed 43.2 MiB/46.9 MiB (74.1 MiB/s) with 1 file(s) remaining\r",
      "Completed 43.4 MiB/46.9 MiB (74.2 MiB/s) with 1 file(s) remaining\r",
      "Completed 43.7 MiB/46.9 MiB (74.4 MiB/s) with 1 file(s) remaining\r",
      "Completed 43.9 MiB/46.9 MiB (74.6 MiB/s) with 1 file(s) remaining\r",
      "Completed 44.2 MiB/46.9 MiB (74.7 MiB/s) with 1 file(s) remaining\r",
      "Completed 44.4 MiB/46.9 MiB (74.8 MiB/s) with 1 file(s) remaining\r",
      "Completed 44.7 MiB/46.9 MiB (75.0 MiB/s) with 1 file(s) remaining\r",
      "Completed 44.9 MiB/46.9 MiB (75.1 MiB/s) with 1 file(s) remaining\r",
      "Completed 45.2 MiB/46.9 MiB (75.2 MiB/s) with 1 file(s) remaining\r",
      "Completed 45.4 MiB/46.9 MiB (75.3 MiB/s) with 1 file(s) remaining\r",
      "Completed 45.7 MiB/46.9 MiB (75.5 MiB/s) with 1 file(s) remaining\r",
      "Completed 45.9 MiB/46.9 MiB (75.6 MiB/s) with 1 file(s) remaining\r",
      "Completed 46.2 MiB/46.9 MiB (75.8 MiB/s) with 1 file(s) remaining\r",
      "Completed 46.4 MiB/46.9 MiB (75.9 MiB/s) with 1 file(s) remaining\r",
      "Completed 46.7 MiB/46.9 MiB (76.1 MiB/s) with 1 file(s) remaining\r",
      "Completed 46.9 MiB/46.9 MiB (76.2 MiB/s) with 1 file(s) remaining\r",
      "download: s3://lfs401-2019reinvent-public-cmh/output.tgz to ./output.tgz\n",
      "Completed 256.0 KiB/107.2 MiB (3.5 MiB/s) with 1 file(s) remaining\r",
      "Completed 512.0 KiB/107.2 MiB (6.7 MiB/s) with 1 file(s) remaining\r",
      "Completed 768.0 KiB/107.2 MiB (9.6 MiB/s) with 1 file(s) remaining\r",
      "Completed 1.0 MiB/107.2 MiB (12.3 MiB/s) with 1 file(s) remaining \r",
      "Completed 1.2 MiB/107.2 MiB (15.1 MiB/s) with 1 file(s) remaining \r",
      "Completed 1.5 MiB/107.2 MiB (17.6 MiB/s) with 1 file(s) remaining \r",
      "Completed 1.8 MiB/107.2 MiB (19.4 MiB/s) with 1 file(s) remaining \r",
      "Completed 2.0 MiB/107.2 MiB (21.9 MiB/s) with 1 file(s) remaining \r",
      "Completed 2.2 MiB/107.2 MiB (23.3 MiB/s) with 1 file(s) remaining \r",
      "Completed 2.5 MiB/107.2 MiB (25.8 MiB/s) with 1 file(s) remaining \r",
      "Completed 2.8 MiB/107.2 MiB (27.9 MiB/s) with 1 file(s) remaining \r",
      "Completed 3.0 MiB/107.2 MiB (29.9 MiB/s) with 1 file(s) remaining \r",
      "Completed 3.2 MiB/107.2 MiB (30.5 MiB/s) with 1 file(s) remaining \r",
      "Completed 3.5 MiB/107.2 MiB (32.1 MiB/s) with 1 file(s) remaining \r",
      "Completed 3.8 MiB/107.2 MiB (34.0 MiB/s) with 1 file(s) remaining \r",
      "Completed 4.0 MiB/107.2 MiB (35.5 MiB/s) with 1 file(s) remaining \r",
      "Completed 4.2 MiB/107.2 MiB (36.4 MiB/s) with 1 file(s) remaining \r",
      "Completed 4.5 MiB/107.2 MiB (37.0 MiB/s) with 1 file(s) remaining \r",
      "Completed 4.8 MiB/107.2 MiB (38.7 MiB/s) with 1 file(s) remaining \r",
      "Completed 5.0 MiB/107.2 MiB (40.5 MiB/s) with 1 file(s) remaining \r",
      "Completed 5.2 MiB/107.2 MiB (41.9 MiB/s) with 1 file(s) remaining \r",
      "Completed 5.5 MiB/107.2 MiB (41.6 MiB/s) with 1 file(s) remaining \r",
      "Completed 5.8 MiB/107.2 MiB (42.6 MiB/s) with 1 file(s) remaining \r",
      "Completed 6.0 MiB/107.2 MiB (44.3 MiB/s) with 1 file(s) remaining \r",
      "Completed 6.2 MiB/107.2 MiB (45.6 MiB/s) with 1 file(s) remaining \r",
      "Completed 6.5 MiB/107.2 MiB (46.2 MiB/s) with 1 file(s) remaining \r",
      "Completed 6.8 MiB/107.2 MiB (47.7 MiB/s) with 1 file(s) remaining \r",
      "Completed 7.0 MiB/107.2 MiB (49.3 MiB/s) with 1 file(s) remaining \r",
      "Completed 7.2 MiB/107.2 MiB (50.6 MiB/s) with 1 file(s) remaining \r",
      "Completed 7.5 MiB/107.2 MiB (51.6 MiB/s) with 1 file(s) remaining \r",
      "Completed 7.8 MiB/107.2 MiB (52.8 MiB/s) with 1 file(s) remaining \r",
      "Completed 8.0 MiB/107.2 MiB (54.1 MiB/s) with 1 file(s) remaining \r",
      "Completed 8.2 MiB/107.2 MiB (54.6 MiB/s) with 1 file(s) remaining \r",
      "Completed 8.5 MiB/107.2 MiB (55.9 MiB/s) with 1 file(s) remaining \r",
      "Completed 8.8 MiB/107.2 MiB (57.3 MiB/s) with 1 file(s) remaining \r",
      "Completed 9.0 MiB/107.2 MiB (56.3 MiB/s) with 1 file(s) remaining \r",
      "Completed 9.2 MiB/107.2 MiB (57.2 MiB/s) with 1 file(s) remaining \r",
      "Completed 9.5 MiB/107.2 MiB (58.3 MiB/s) with 1 file(s) remaining \r",
      "Completed 9.8 MiB/107.2 MiB (59.4 MiB/s) with 1 file(s) remaining \r",
      "Completed 10.0 MiB/107.2 MiB (59.3 MiB/s) with 1 file(s) remaining\r",
      "Completed 10.2 MiB/107.2 MiB (59.7 MiB/s) with 1 file(s) remaining\r",
      "Completed 10.5 MiB/107.2 MiB (60.8 MiB/s) with 1 file(s) remaining\r",
      "Completed 10.8 MiB/107.2 MiB (61.9 MiB/s) with 1 file(s) remaining\r",
      "Completed 11.0 MiB/107.2 MiB (62.8 MiB/s) with 1 file(s) remaining\r",
      "Completed 11.2 MiB/107.2 MiB (63.5 MiB/s) with 1 file(s) remaining\r",
      "Completed 11.5 MiB/107.2 MiB (64.7 MiB/s) with 1 file(s) remaining\r",
      "Completed 11.8 MiB/107.2 MiB (64.9 MiB/s) with 1 file(s) remaining\r",
      "Completed 12.0 MiB/107.2 MiB (65.4 MiB/s) with 1 file(s) remaining\r",
      "Completed 12.2 MiB/107.2 MiB (66.4 MiB/s) with 1 file(s) remaining\r",
      "Completed 12.5 MiB/107.2 MiB (67.4 MiB/s) with 1 file(s) remaining\r",
      "Completed 12.8 MiB/107.2 MiB (66.2 MiB/s) with 1 file(s) remaining\r",
      "Completed 13.0 MiB/107.2 MiB (67.3 MiB/s) with 1 file(s) remaining\r",
      "Completed 13.2 MiB/107.2 MiB (67.8 MiB/s) with 1 file(s) remaining\r",
      "Completed 13.5 MiB/107.2 MiB (68.9 MiB/s) with 1 file(s) remaining\r",
      "Completed 13.8 MiB/107.2 MiB (68.4 MiB/s) with 1 file(s) remaining\r",
      "Completed 14.0 MiB/107.2 MiB (68.9 MiB/s) with 1 file(s) remaining\r",
      "Completed 14.2 MiB/107.2 MiB (69.8 MiB/s) with 1 file(s) remaining\r",
      "Completed 14.5 MiB/107.2 MiB (70.6 MiB/s) with 1 file(s) remaining\r",
      "Completed 14.8 MiB/107.2 MiB (71.3 MiB/s) with 1 file(s) remaining\r",
      "Completed 15.0 MiB/107.2 MiB (71.9 MiB/s) with 1 file(s) remaining\r",
      "Completed 15.2 MiB/107.2 MiB (72.4 MiB/s) with 1 file(s) remaining\r",
      "Completed 15.5 MiB/107.2 MiB (72.8 MiB/s) with 1 file(s) remaining\r",
      "Completed 15.8 MiB/107.2 MiB (73.1 MiB/s) with 1 file(s) remaining\r",
      "Completed 16.0 MiB/107.2 MiB (73.5 MiB/s) with 1 file(s) remaining\r",
      "Completed 16.2 MiB/107.2 MiB (73.0 MiB/s) with 1 file(s) remaining\r",
      "Completed 16.5 MiB/107.2 MiB (73.3 MiB/s) with 1 file(s) remaining\r",
      "Completed 16.8 MiB/107.2 MiB (74.1 MiB/s) with 1 file(s) remaining\r",
      "Completed 17.0 MiB/107.2 MiB (74.3 MiB/s) with 1 file(s) remaining\r",
      "Completed 17.2 MiB/107.2 MiB (75.2 MiB/s) with 1 file(s) remaining\r",
      "Completed 17.5 MiB/107.2 MiB (75.5 MiB/s) with 1 file(s) remaining\r",
      "Completed 17.8 MiB/107.2 MiB (75.5 MiB/s) with 1 file(s) remaining\r",
      "Completed 18.0 MiB/107.2 MiB (76.4 MiB/s) with 1 file(s) remaining\r",
      "Completed 18.2 MiB/107.2 MiB (77.1 MiB/s) with 1 file(s) remaining\r",
      "Completed 18.5 MiB/107.2 MiB (77.9 MiB/s) with 1 file(s) remaining\r",
      "Completed 18.8 MiB/107.2 MiB (77.7 MiB/s) with 1 file(s) remaining\r",
      "Completed 19.0 MiB/107.2 MiB (78.3 MiB/s) with 1 file(s) remaining\r",
      "Completed 19.2 MiB/107.2 MiB (78.0 MiB/s) with 1 file(s) remaining\r",
      "Completed 19.5 MiB/107.2 MiB (78.3 MiB/s) with 1 file(s) remaining\r",
      "Completed 19.8 MiB/107.2 MiB (78.9 MiB/s) with 1 file(s) remaining\r",
      "Completed 20.0 MiB/107.2 MiB (78.9 MiB/s) with 1 file(s) remaining\r",
      "Completed 20.2 MiB/107.2 MiB (79.0 MiB/s) with 1 file(s) remaining\r",
      "Completed 20.5 MiB/107.2 MiB (79.5 MiB/s) with 1 file(s) remaining\r",
      "Completed 20.8 MiB/107.2 MiB (79.2 MiB/s) with 1 file(s) remaining\r",
      "Completed 21.0 MiB/107.2 MiB (79.9 MiB/s) with 1 file(s) remaining\r",
      "Completed 21.2 MiB/107.2 MiB (80.3 MiB/s) with 1 file(s) remaining\r",
      "Completed 21.5 MiB/107.2 MiB (80.9 MiB/s) with 1 file(s) remaining\r",
      "Completed 21.8 MiB/107.2 MiB (81.6 MiB/s) with 1 file(s) remaining\r",
      "Completed 22.0 MiB/107.2 MiB (82.4 MiB/s) with 1 file(s) remaining\r",
      "Completed 22.2 MiB/107.2 MiB (82.8 MiB/s) with 1 file(s) remaining\r",
      "Completed 22.5 MiB/107.2 MiB (83.2 MiB/s) with 1 file(s) remaining\r",
      "Completed 22.8 MiB/107.2 MiB (83.2 MiB/s) with 1 file(s) remaining\r",
      "Completed 23.0 MiB/107.2 MiB (83.3 MiB/s) with 1 file(s) remaining\r",
      "Completed 23.2 MiB/107.2 MiB (82.9 MiB/s) with 1 file(s) remaining\r",
      "Completed 23.5 MiB/107.2 MiB (82.5 MiB/s) with 1 file(s) remaining\r",
      "Completed 23.8 MiB/107.2 MiB (83.1 MiB/s) with 1 file(s) remaining\r",
      "Completed 24.0 MiB/107.2 MiB (83.5 MiB/s) with 1 file(s) remaining\r",
      "Completed 24.2 MiB/107.2 MiB (84.0 MiB/s) with 1 file(s) remaining\r",
      "Completed 24.5 MiB/107.2 MiB (84.3 MiB/s) with 1 file(s) remaining\r",
      "Completed 24.8 MiB/107.2 MiB (84.4 MiB/s) with 1 file(s) remaining\r",
      "Completed 25.0 MiB/107.2 MiB (84.8 MiB/s) with 1 file(s) remaining\r",
      "Completed 25.2 MiB/107.2 MiB (85.5 MiB/s) with 1 file(s) remaining\r",
      "Completed 25.5 MiB/107.2 MiB (85.4 MiB/s) with 1 file(s) remaining\r",
      "Completed 25.8 MiB/107.2 MiB (85.9 MiB/s) with 1 file(s) remaining\r",
      "Completed 26.0 MiB/107.2 MiB (86.2 MiB/s) with 1 file(s) remaining\r",
      "Completed 26.2 MiB/107.2 MiB (86.8 MiB/s) with 1 file(s) remaining\r",
      "Completed 26.5 MiB/107.2 MiB (85.9 MiB/s) with 1 file(s) remaining\r",
      "Completed 26.8 MiB/107.2 MiB (86.2 MiB/s) with 1 file(s) remaining\r",
      "Completed 27.0 MiB/107.2 MiB (86.6 MiB/s) with 1 file(s) remaining\r",
      "Completed 27.2 MiB/107.2 MiB (86.4 MiB/s) with 1 file(s) remaining\r",
      "Completed 27.5 MiB/107.2 MiB (87.0 MiB/s) with 1 file(s) remaining\r",
      "Completed 27.8 MiB/107.2 MiB (86.9 MiB/s) with 1 file(s) remaining\r",
      "Completed 28.0 MiB/107.2 MiB (87.1 MiB/s) with 1 file(s) remaining\r",
      "Completed 28.2 MiB/107.2 MiB (87.5 MiB/s) with 1 file(s) remaining\r",
      "Completed 28.5 MiB/107.2 MiB (88.0 MiB/s) with 1 file(s) remaining\r",
      "Completed 28.8 MiB/107.2 MiB (88.5 MiB/s) with 1 file(s) remaining\r",
      "Completed 29.0 MiB/107.2 MiB (88.7 MiB/s) with 1 file(s) remaining\r",
      "Completed 29.2 MiB/107.2 MiB (87.9 MiB/s) with 1 file(s) remaining\r",
      "Completed 29.5 MiB/107.2 MiB (88.3 MiB/s) with 1 file(s) remaining\r",
      "Completed 29.8 MiB/107.2 MiB (88.5 MiB/s) with 1 file(s) remaining\r",
      "Completed 30.0 MiB/107.2 MiB (88.7 MiB/s) with 1 file(s) remaining\r",
      "Completed 30.2 MiB/107.2 MiB (88.2 MiB/s) with 1 file(s) remaining\r",
      "Completed 30.5 MiB/107.2 MiB (88.8 MiB/s) with 1 file(s) remaining\r",
      "Completed 30.8 MiB/107.2 MiB (89.3 MiB/s) with 1 file(s) remaining\r",
      "Completed 31.0 MiB/107.2 MiB (89.8 MiB/s) with 1 file(s) remaining\r",
      "Completed 31.2 MiB/107.2 MiB (90.3 MiB/s) with 1 file(s) remaining\r",
      "Completed 31.5 MiB/107.2 MiB (90.4 MiB/s) with 1 file(s) remaining\r",
      "Completed 31.8 MiB/107.2 MiB (90.6 MiB/s) with 1 file(s) remaining\r",
      "Completed 32.0 MiB/107.2 MiB (91.0 MiB/s) with 1 file(s) remaining\r",
      "Completed 32.2 MiB/107.2 MiB (90.3 MiB/s) with 1 file(s) remaining\r",
      "Completed 32.5 MiB/107.2 MiB (89.5 MiB/s) with 1 file(s) remaining\r",
      "Completed 32.8 MiB/107.2 MiB (90.0 MiB/s) with 1 file(s) remaining\r",
      "Completed 33.0 MiB/107.2 MiB (90.3 MiB/s) with 1 file(s) remaining\r",
      "Completed 33.2 MiB/107.2 MiB (90.3 MiB/s) with 1 file(s) remaining\r",
      "Completed 33.5 MiB/107.2 MiB (90.9 MiB/s) with 1 file(s) remaining\r",
      "Completed 33.8 MiB/107.2 MiB (91.4 MiB/s) with 1 file(s) remaining\r",
      "Completed 34.0 MiB/107.2 MiB (91.9 MiB/s) with 1 file(s) remaining\r",
      "Completed 34.2 MiB/107.2 MiB (91.1 MiB/s) with 1 file(s) remaining\r",
      "Completed 34.5 MiB/107.2 MiB (91.5 MiB/s) with 1 file(s) remaining\r",
      "Completed 34.8 MiB/107.2 MiB (91.0 MiB/s) with 1 file(s) remaining\r",
      "Completed 35.0 MiB/107.2 MiB (91.5 MiB/s) with 1 file(s) remaining\r",
      "Completed 35.2 MiB/107.2 MiB (91.9 MiB/s) with 1 file(s) remaining\r",
      "Completed 35.5 MiB/107.2 MiB (92.1 MiB/s) with 1 file(s) remaining\r",
      "Completed 35.8 MiB/107.2 MiB (92.5 MiB/s) with 1 file(s) remaining\r",
      "Completed 36.0 MiB/107.2 MiB (92.3 MiB/s) with 1 file(s) remaining\r",
      "Completed 36.2 MiB/107.2 MiB (92.9 MiB/s) with 1 file(s) remaining\r",
      "Completed 36.5 MiB/107.2 MiB (92.8 MiB/s) with 1 file(s) remaining\r",
      "Completed 36.8 MiB/107.2 MiB (93.2 MiB/s) with 1 file(s) remaining\r",
      "Completed 37.0 MiB/107.2 MiB (93.2 MiB/s) with 1 file(s) remaining\r",
      "Completed 37.2 MiB/107.2 MiB (93.4 MiB/s) with 1 file(s) remaining\r",
      "Completed 37.5 MiB/107.2 MiB (92.7 MiB/s) with 1 file(s) remaining\r",
      "Completed 37.8 MiB/107.2 MiB (93.2 MiB/s) with 1 file(s) remaining\r",
      "Completed 38.0 MiB/107.2 MiB (93.6 MiB/s) with 1 file(s) remaining\r",
      "Completed 38.2 MiB/107.2 MiB (94.0 MiB/s) with 1 file(s) remaining\r",
      "Completed 38.5 MiB/107.2 MiB (93.4 MiB/s) with 1 file(s) remaining\r",
      "Completed 38.8 MiB/107.2 MiB (93.8 MiB/s) with 1 file(s) remaining\r",
      "Completed 39.0 MiB/107.2 MiB (93.3 MiB/s) with 1 file(s) remaining\r",
      "Completed 39.2 MiB/107.2 MiB (93.6 MiB/s) with 1 file(s) remaining\r",
      "Completed 39.5 MiB/107.2 MiB (94.0 MiB/s) with 1 file(s) remaining\r",
      "Completed 39.8 MiB/107.2 MiB (94.4 MiB/s) with 1 file(s) remaining\r",
      "Completed 40.0 MiB/107.2 MiB (94.9 MiB/s) with 1 file(s) remaining\r",
      "Completed 40.2 MiB/107.2 MiB (94.0 MiB/s) with 1 file(s) remaining\r",
      "Completed 40.5 MiB/107.2 MiB (94.5 MiB/s) with 1 file(s) remaining\r",
      "Completed 40.8 MiB/107.2 MiB (94.8 MiB/s) with 1 file(s) remaining\r",
      "Completed 41.0 MiB/107.2 MiB (95.3 MiB/s) with 1 file(s) remaining\r",
      "Completed 41.2 MiB/107.2 MiB (94.5 MiB/s) with 1 file(s) remaining\r",
      "Completed 41.5 MiB/107.2 MiB (94.9 MiB/s) with 1 file(s) remaining\r",
      "Completed 41.8 MiB/107.2 MiB (95.3 MiB/s) with 1 file(s) remaining\r",
      "Completed 42.0 MiB/107.2 MiB (95.5 MiB/s) with 1 file(s) remaining\r",
      "Completed 42.2 MiB/107.2 MiB (95.0 MiB/s) with 1 file(s) remaining\r",
      "Completed 42.5 MiB/107.2 MiB (95.3 MiB/s) with 1 file(s) remaining\r",
      "Completed 42.8 MiB/107.2 MiB (95.6 MiB/s) with 1 file(s) remaining\r",
      "Completed 43.0 MiB/107.2 MiB (96.0 MiB/s) with 1 file(s) remaining\r",
      "Completed 43.2 MiB/107.2 MiB (95.4 MiB/s) with 1 file(s) remaining\r",
      "Completed 43.5 MiB/107.2 MiB (95.5 MiB/s) with 1 file(s) remaining\r",
      "Completed 43.8 MiB/107.2 MiB (95.5 MiB/s) with 1 file(s) remaining\r",
      "Completed 44.0 MiB/107.2 MiB (95.9 MiB/s) with 1 file(s) remaining\r",
      "Completed 44.2 MiB/107.2 MiB (95.8 MiB/s) with 1 file(s) remaining\r",
      "Completed 44.5 MiB/107.2 MiB (96.0 MiB/s) with 1 file(s) remaining\r",
      "Completed 44.8 MiB/107.2 MiB (96.4 MiB/s) with 1 file(s) remaining\r",
      "Completed 45.0 MiB/107.2 MiB (96.6 MiB/s) with 1 file(s) remaining\r",
      "Completed 45.2 MiB/107.2 MiB (97.1 MiB/s) with 1 file(s) remaining\r",
      "Completed 45.5 MiB/107.2 MiB (96.5 MiB/s) with 1 file(s) remaining\r",
      "Completed 45.8 MiB/107.2 MiB (96.9 MiB/s) with 1 file(s) remaining\r",
      "Completed 46.0 MiB/107.2 MiB (96.9 MiB/s) with 1 file(s) remaining\r",
      "Completed 46.2 MiB/107.2 MiB (95.9 MiB/s) with 1 file(s) remaining\r",
      "Completed 46.5 MiB/107.2 MiB (96.1 MiB/s) with 1 file(s) remaining\r",
      "Completed 46.8 MiB/107.2 MiB (96.0 MiB/s) with 1 file(s) remaining\r",
      "Completed 47.0 MiB/107.2 MiB (96.1 MiB/s) with 1 file(s) remaining\r",
      "Completed 47.2 MiB/107.2 MiB (96.4 MiB/s) with 1 file(s) remaining\r",
      "Completed 47.5 MiB/107.2 MiB (96.7 MiB/s) with 1 file(s) remaining\r",
      "Completed 47.8 MiB/107.2 MiB (97.1 MiB/s) with 1 file(s) remaining\r",
      "Completed 48.0 MiB/107.2 MiB (97.4 MiB/s) with 1 file(s) remaining\r",
      "Completed 48.2 MiB/107.2 MiB (97.7 MiB/s) with 1 file(s) remaining\r",
      "Completed 48.5 MiB/107.2 MiB (97.7 MiB/s) with 1 file(s) remaining\r",
      "Completed 48.8 MiB/107.2 MiB (97.9 MiB/s) with 1 file(s) remaining\r",
      "Completed 49.0 MiB/107.2 MiB (98.2 MiB/s) with 1 file(s) remaining\r",
      "Completed 49.2 MiB/107.2 MiB (98.0 MiB/s) with 1 file(s) remaining\r",
      "Completed 49.5 MiB/107.2 MiB (97.3 MiB/s) with 1 file(s) remaining\r",
      "Completed 49.8 MiB/107.2 MiB (97.2 MiB/s) with 1 file(s) remaining\r",
      "Completed 50.0 MiB/107.2 MiB (97.5 MiB/s) with 1 file(s) remaining\r",
      "Completed 50.2 MiB/107.2 MiB (97.6 MiB/s) with 1 file(s) remaining\r",
      "Completed 50.5 MiB/107.2 MiB (97.8 MiB/s) with 1 file(s) remaining\r",
      "Completed 50.8 MiB/107.2 MiB (98.0 MiB/s) with 1 file(s) remaining\r",
      "Completed 51.0 MiB/107.2 MiB (97.9 MiB/s) with 1 file(s) remaining\r",
      "Completed 51.2 MiB/107.2 MiB (98.0 MiB/s) with 1 file(s) remaining\r",
      "Completed 51.5 MiB/107.2 MiB (98.4 MiB/s) with 1 file(s) remaining\r",
      "Completed 51.8 MiB/107.2 MiB (98.4 MiB/s) with 1 file(s) remaining\r",
      "Completed 52.0 MiB/107.2 MiB (98.4 MiB/s) with 1 file(s) remaining\r",
      "Completed 52.2 MiB/107.2 MiB (98.7 MiB/s) with 1 file(s) remaining\r",
      "Completed 52.5 MiB/107.2 MiB (99.0 MiB/s) with 1 file(s) remaining\r",
      "Completed 52.8 MiB/107.2 MiB (99.1 MiB/s) with 1 file(s) remaining\r",
      "Completed 53.0 MiB/107.2 MiB (98.8 MiB/s) with 1 file(s) remaining\r",
      "Completed 53.2 MiB/107.2 MiB (98.7 MiB/s) with 1 file(s) remaining\r",
      "Completed 53.5 MiB/107.2 MiB (98.5 MiB/s) with 1 file(s) remaining\r",
      "Completed 53.8 MiB/107.2 MiB (98.3 MiB/s) with 1 file(s) remaining\r",
      "Completed 54.0 MiB/107.2 MiB (98.5 MiB/s) with 1 file(s) remaining\r",
      "Completed 54.2 MiB/107.2 MiB (98.8 MiB/s) with 1 file(s) remaining\r",
      "Completed 54.5 MiB/107.2 MiB (99.1 MiB/s) with 1 file(s) remaining\r",
      "Completed 54.8 MiB/107.2 MiB (99.4 MiB/s) with 1 file(s) remaining\r",
      "Completed 55.0 MiB/107.2 MiB (99.4 MiB/s) with 1 file(s) remaining\r",
      "Completed 55.2 MiB/107.2 MiB (99.8 MiB/s) with 1 file(s) remaining\r",
      "Completed 55.5 MiB/107.2 MiB (99.7 MiB/s) with 1 file(s) remaining\r",
      "Completed 55.8 MiB/107.2 MiB (99.7 MiB/s) with 1 file(s) remaining\r",
      "Completed 56.0 MiB/107.2 MiB (99.7 MiB/s) with 1 file(s) remaining\r",
      "Completed 56.2 MiB/107.2 MiB (99.8 MiB/s) with 1 file(s) remaining\r",
      "Completed 56.5 MiB/107.2 MiB (99.9 MiB/s) with 1 file(s) remaining\r",
      "Completed 56.8 MiB/107.2 MiB (99.6 MiB/s) with 1 file(s) remaining\r",
      "Completed 57.0 MiB/107.2 MiB (99.7 MiB/s) with 1 file(s) remaining\r",
      "Completed 57.2 MiB/107.2 MiB (99.9 MiB/s) with 1 file(s) remaining\r",
      "Completed 57.5 MiB/107.2 MiB (99.8 MiB/s) with 1 file(s) remaining\r",
      "Completed 57.8 MiB/107.2 MiB (99.3 MiB/s) with 1 file(s) remaining\r",
      "Completed 58.0 MiB/107.2 MiB (99.6 MiB/s) with 1 file(s) remaining\r",
      "Completed 58.2 MiB/107.2 MiB (99.8 MiB/s) with 1 file(s) remaining\r",
      "Completed 58.5 MiB/107.2 MiB (100.0 MiB/s) with 1 file(s) remaining\r",
      "Completed 58.8 MiB/107.2 MiB (100.2 MiB/s) with 1 file(s) remaining\r",
      "Completed 59.0 MiB/107.2 MiB (100.6 MiB/s) with 1 file(s) remaining\r",
      "Completed 59.2 MiB/107.2 MiB (100.0 MiB/s) with 1 file(s) remaining\r",
      "Completed 59.5 MiB/107.2 MiB (100.3 MiB/s) with 1 file(s) remaining\r",
      "Completed 59.8 MiB/107.2 MiB (100.0 MiB/s) with 1 file(s) remaining\r",
      "Completed 60.0 MiB/107.2 MiB (100.1 MiB/s) with 1 file(s) remaining\r",
      "Completed 60.2 MiB/107.2 MiB (100.4 MiB/s) with 1 file(s) remaining\r",
      "Completed 60.5 MiB/107.2 MiB (100.3 MiB/s) with 1 file(s) remaining\r",
      "Completed 60.8 MiB/107.2 MiB (100.3 MiB/s) with 1 file(s) remaining\r",
      "Completed 61.0 MiB/107.2 MiB (100.5 MiB/s) with 1 file(s) remaining\r",
      "Completed 61.2 MiB/107.2 MiB (100.4 MiB/s) with 1 file(s) remaining\r",
      "Completed 61.5 MiB/107.2 MiB (100.7 MiB/s) with 1 file(s) remaining\r",
      "Completed 61.8 MiB/107.2 MiB (100.7 MiB/s) with 1 file(s) remaining\r",
      "Completed 62.0 MiB/107.2 MiB (101.0 MiB/s) with 1 file(s) remaining\r",
      "Completed 62.2 MiB/107.2 MiB (100.8 MiB/s) with 1 file(s) remaining\r",
      "Completed 62.5 MiB/107.2 MiB (100.9 MiB/s) with 1 file(s) remaining\r",
      "Completed 62.8 MiB/107.2 MiB (101.0 MiB/s) with 1 file(s) remaining\r",
      "Completed 63.0 MiB/107.2 MiB (101.0 MiB/s) with 1 file(s) remaining\r",
      "Completed 63.2 MiB/107.2 MiB (101.3 MiB/s) with 1 file(s) remaining\r",
      "Completed 63.5 MiB/107.2 MiB (100.3 MiB/s) with 1 file(s) remaining\r",
      "Completed 63.8 MiB/107.2 MiB (100.2 MiB/s) with 1 file(s) remaining\r",
      "Completed 64.0 MiB/107.2 MiB (100.3 MiB/s) with 1 file(s) remaining\r",
      "Completed 64.2 MiB/107.2 MiB (100.1 MiB/s) with 1 file(s) remaining\r",
      "Completed 64.5 MiB/107.2 MiB (99.9 MiB/s) with 1 file(s) remaining \r",
      "Completed 64.8 MiB/107.2 MiB (100.2 MiB/s) with 1 file(s) remaining\r",
      "Completed 65.0 MiB/107.2 MiB (100.0 MiB/s) with 1 file(s) remaining\r",
      "Completed 65.2 MiB/107.2 MiB (99.8 MiB/s) with 1 file(s) remaining \r",
      "Completed 65.5 MiB/107.2 MiB (100.0 MiB/s) with 1 file(s) remaining\r",
      "Completed 65.8 MiB/107.2 MiB (100.3 MiB/s) with 1 file(s) remaining\r",
      "Completed 66.0 MiB/107.2 MiB (100.4 MiB/s) with 1 file(s) remaining\r",
      "Completed 66.2 MiB/107.2 MiB (100.8 MiB/s) with 1 file(s) remaining\r",
      "Completed 66.5 MiB/107.2 MiB (100.8 MiB/s) with 1 file(s) remaining\r",
      "Completed 66.8 MiB/107.2 MiB (100.7 MiB/s) with 1 file(s) remaining\r",
      "Completed 67.0 MiB/107.2 MiB (100.8 MiB/s) with 1 file(s) remaining\r",
      "Completed 67.2 MiB/107.2 MiB (100.7 MiB/s) with 1 file(s) remaining\r",
      "Completed 67.5 MiB/107.2 MiB (100.9 MiB/s) with 1 file(s) remaining\r",
      "Completed 67.8 MiB/107.2 MiB (100.9 MiB/s) with 1 file(s) remaining\r",
      "Completed 68.0 MiB/107.2 MiB (101.1 MiB/s) with 1 file(s) remaining\r",
      "Completed 68.2 MiB/107.2 MiB (100.9 MiB/s) with 1 file(s) remaining\r",
      "Completed 68.5 MiB/107.2 MiB (101.1 MiB/s) with 1 file(s) remaining\r",
      "Completed 68.8 MiB/107.2 MiB (101.1 MiB/s) with 1 file(s) remaining\r",
      "Completed 69.0 MiB/107.2 MiB (101.1 MiB/s) with 1 file(s) remaining\r",
      "Completed 69.2 MiB/107.2 MiB (101.1 MiB/s) with 1 file(s) remaining\r",
      "Completed 69.5 MiB/107.2 MiB (100.6 MiB/s) with 1 file(s) remaining\r",
      "Completed 69.8 MiB/107.2 MiB (100.7 MiB/s) with 1 file(s) remaining\r",
      "Completed 70.0 MiB/107.2 MiB (100.9 MiB/s) with 1 file(s) remaining\r",
      "Completed 70.2 MiB/107.2 MiB (101.1 MiB/s) with 1 file(s) remaining\r",
      "Completed 70.5 MiB/107.2 MiB (101.3 MiB/s) with 1 file(s) remaining\r",
      "Completed 70.8 MiB/107.2 MiB (101.6 MiB/s) with 1 file(s) remaining\r",
      "Completed 71.0 MiB/107.2 MiB (101.3 MiB/s) with 1 file(s) remaining\r",
      "Completed 71.2 MiB/107.2 MiB (101.6 MiB/s) with 1 file(s) remaining\r",
      "Completed 71.5 MiB/107.2 MiB (101.7 MiB/s) with 1 file(s) remaining\r",
      "Completed 71.8 MiB/107.2 MiB (101.8 MiB/s) with 1 file(s) remaining\r",
      "Completed 72.0 MiB/107.2 MiB (102.0 MiB/s) with 1 file(s) remaining\r",
      "Completed 72.2 MiB/107.2 MiB (102.2 MiB/s) with 1 file(s) remaining\r",
      "Completed 72.5 MiB/107.2 MiB (101.8 MiB/s) with 1 file(s) remaining\r",
      "Completed 72.8 MiB/107.2 MiB (101.3 MiB/s) with 1 file(s) remaining\r",
      "Completed 73.0 MiB/107.2 MiB (101.6 MiB/s) with 1 file(s) remaining\r",
      "Completed 73.2 MiB/107.2 MiB (101.8 MiB/s) with 1 file(s) remaining\r",
      "Completed 73.5 MiB/107.2 MiB (101.8 MiB/s) with 1 file(s) remaining\r",
      "Completed 73.8 MiB/107.2 MiB (102.0 MiB/s) with 1 file(s) remaining\r",
      "Completed 74.0 MiB/107.2 MiB (102.1 MiB/s) with 1 file(s) remaining\r",
      "Completed 74.2 MiB/107.2 MiB (101.9 MiB/s) with 1 file(s) remaining\r",
      "Completed 74.5 MiB/107.2 MiB (102.0 MiB/s) with 1 file(s) remaining\r",
      "Completed 74.8 MiB/107.2 MiB (102.2 MiB/s) with 1 file(s) remaining\r",
      "Completed 75.0 MiB/107.2 MiB (102.4 MiB/s) with 1 file(s) remaining\r",
      "Completed 75.2 MiB/107.2 MiB (102.3 MiB/s) with 1 file(s) remaining\r",
      "Completed 75.5 MiB/107.2 MiB (102.3 MiB/s) with 1 file(s) remaining\r",
      "Completed 75.8 MiB/107.2 MiB (102.5 MiB/s) with 1 file(s) remaining\r",
      "Completed 76.0 MiB/107.2 MiB (102.4 MiB/s) with 1 file(s) remaining\r",
      "Completed 76.2 MiB/107.2 MiB (102.6 MiB/s) with 1 file(s) remaining\r",
      "Completed 76.5 MiB/107.2 MiB (102.8 MiB/s) with 1 file(s) remaining\r",
      "Completed 76.8 MiB/107.2 MiB (102.6 MiB/s) with 1 file(s) remaining\r",
      "Completed 77.0 MiB/107.2 MiB (102.6 MiB/s) with 1 file(s) remaining\r",
      "Completed 77.2 MiB/107.2 MiB (102.8 MiB/s) with 1 file(s) remaining\r",
      "Completed 77.5 MiB/107.2 MiB (102.5 MiB/s) with 1 file(s) remaining\r",
      "Completed 77.8 MiB/107.2 MiB (102.7 MiB/s) with 1 file(s) remaining\r",
      "Completed 78.0 MiB/107.2 MiB (102.8 MiB/s) with 1 file(s) remaining\r",
      "Completed 78.2 MiB/107.2 MiB (102.7 MiB/s) with 1 file(s) remaining\r",
      "Completed 78.5 MiB/107.2 MiB (102.8 MiB/s) with 1 file(s) remaining\r",
      "Completed 78.8 MiB/107.2 MiB (102.7 MiB/s) with 1 file(s) remaining\r",
      "Completed 79.0 MiB/107.2 MiB (102.5 MiB/s) with 1 file(s) remaining\r",
      "Completed 79.2 MiB/107.2 MiB (102.6 MiB/s) with 1 file(s) remaining\r",
      "Completed 79.5 MiB/107.2 MiB (102.9 MiB/s) with 1 file(s) remaining\r",
      "Completed 79.8 MiB/107.2 MiB (102.9 MiB/s) with 1 file(s) remaining\r",
      "Completed 80.0 MiB/107.2 MiB (103.0 MiB/s) with 1 file(s) remaining\r",
      "Completed 80.2 MiB/107.2 MiB (103.2 MiB/s) with 1 file(s) remaining\r",
      "Completed 80.5 MiB/107.2 MiB (103.4 MiB/s) with 1 file(s) remaining\r",
      "Completed 80.8 MiB/107.2 MiB (103.4 MiB/s) with 1 file(s) remaining\r",
      "Completed 81.0 MiB/107.2 MiB (103.4 MiB/s) with 1 file(s) remaining\r",
      "Completed 81.2 MiB/107.2 MiB (103.5 MiB/s) with 1 file(s) remaining\r",
      "Completed 81.5 MiB/107.2 MiB (103.0 MiB/s) with 1 file(s) remaining\r",
      "Completed 81.8 MiB/107.2 MiB (103.1 MiB/s) with 1 file(s) remaining\r",
      "Completed 82.0 MiB/107.2 MiB (103.4 MiB/s) with 1 file(s) remaining\r",
      "Completed 82.2 MiB/107.2 MiB (103.5 MiB/s) with 1 file(s) remaining\r",
      "Completed 82.5 MiB/107.2 MiB (103.7 MiB/s) with 1 file(s) remaining\r",
      "Completed 82.8 MiB/107.2 MiB (103.5 MiB/s) with 1 file(s) remaining\r",
      "Completed 83.0 MiB/107.2 MiB (103.7 MiB/s) with 1 file(s) remaining\r",
      "Completed 83.2 MiB/107.2 MiB (103.8 MiB/s) with 1 file(s) remaining\r",
      "Completed 83.5 MiB/107.2 MiB (104.0 MiB/s) with 1 file(s) remaining\r",
      "Completed 83.8 MiB/107.2 MiB (104.1 MiB/s) with 1 file(s) remaining\r",
      "Completed 84.0 MiB/107.2 MiB (103.6 MiB/s) with 1 file(s) remaining\r",
      "Completed 84.2 MiB/107.2 MiB (103.6 MiB/s) with 1 file(s) remaining\r",
      "Completed 84.5 MiB/107.2 MiB (103.8 MiB/s) with 1 file(s) remaining\r",
      "Completed 84.8 MiB/107.2 MiB (104.0 MiB/s) with 1 file(s) remaining\r",
      "Completed 85.0 MiB/107.2 MiB (103.6 MiB/s) with 1 file(s) remaining\r",
      "Completed 85.2 MiB/107.2 MiB (103.8 MiB/s) with 1 file(s) remaining\r",
      "Completed 85.5 MiB/107.2 MiB (103.9 MiB/s) with 1 file(s) remaining\r",
      "Completed 85.8 MiB/107.2 MiB (104.1 MiB/s) with 1 file(s) remaining\r",
      "Completed 86.0 MiB/107.2 MiB (103.9 MiB/s) with 1 file(s) remaining\r",
      "Completed 86.2 MiB/107.2 MiB (104.0 MiB/s) with 1 file(s) remaining\r",
      "Completed 86.5 MiB/107.2 MiB (104.1 MiB/s) with 1 file(s) remaining\r",
      "Completed 86.8 MiB/107.2 MiB (104.1 MiB/s) with 1 file(s) remaining\r",
      "Completed 87.0 MiB/107.2 MiB (103.9 MiB/s) with 1 file(s) remaining\r",
      "Completed 87.2 MiB/107.2 MiB (104.0 MiB/s) with 1 file(s) remaining\r",
      "Completed 87.5 MiB/107.2 MiB (104.3 MiB/s) with 1 file(s) remaining\r",
      "Completed 87.8 MiB/107.2 MiB (104.3 MiB/s) with 1 file(s) remaining\r",
      "Completed 88.0 MiB/107.2 MiB (104.5 MiB/s) with 1 file(s) remaining\r",
      "Completed 88.2 MiB/107.2 MiB (104.3 MiB/s) with 1 file(s) remaining\r",
      "Completed 88.5 MiB/107.2 MiB (103.6 MiB/s) with 1 file(s) remaining\r",
      "Completed 88.8 MiB/107.2 MiB (103.6 MiB/s) with 1 file(s) remaining\r",
      "Completed 89.0 MiB/107.2 MiB (103.6 MiB/s) with 1 file(s) remaining\r",
      "Completed 89.2 MiB/107.2 MiB (103.8 MiB/s) with 1 file(s) remaining\r",
      "Completed 89.5 MiB/107.2 MiB (103.9 MiB/s) with 1 file(s) remaining\r",
      "Completed 89.8 MiB/107.2 MiB (103.6 MiB/s) with 1 file(s) remaining\r",
      "Completed 90.0 MiB/107.2 MiB (103.8 MiB/s) with 1 file(s) remaining\r",
      "Completed 90.2 MiB/107.2 MiB (104.0 MiB/s) with 1 file(s) remaining\r",
      "Completed 90.5 MiB/107.2 MiB (104.1 MiB/s) with 1 file(s) remaining\r",
      "Completed 90.8 MiB/107.2 MiB (103.9 MiB/s) with 1 file(s) remaining\r",
      "Completed 91.0 MiB/107.2 MiB (103.9 MiB/s) with 1 file(s) remaining\r",
      "Completed 91.2 MiB/107.2 MiB (104.0 MiB/s) with 1 file(s) remaining\r",
      "Completed 91.5 MiB/107.2 MiB (103.9 MiB/s) with 1 file(s) remaining\r",
      "Completed 91.8 MiB/107.2 MiB (103.6 MiB/s) with 1 file(s) remaining\r",
      "Completed 92.0 MiB/107.2 MiB (103.9 MiB/s) with 1 file(s) remaining\r",
      "Completed 92.2 MiB/107.2 MiB (104.0 MiB/s) with 1 file(s) remaining\r",
      "Completed 92.5 MiB/107.2 MiB (104.2 MiB/s) with 1 file(s) remaining\r",
      "Completed 92.8 MiB/107.2 MiB (104.3 MiB/s) with 1 file(s) remaining\r",
      "Completed 93.0 MiB/107.2 MiB (104.4 MiB/s) with 1 file(s) remaining\r",
      "Completed 93.2 MiB/107.2 MiB (104.3 MiB/s) with 1 file(s) remaining\r",
      "Completed 93.5 MiB/107.2 MiB (104.4 MiB/s) with 1 file(s) remaining\r",
      "Completed 93.8 MiB/107.2 MiB (104.6 MiB/s) with 1 file(s) remaining\r",
      "Completed 94.0 MiB/107.2 MiB (104.8 MiB/s) with 1 file(s) remaining\r",
      "Completed 94.2 MiB/107.2 MiB (104.3 MiB/s) with 1 file(s) remaining\r",
      "Completed 94.5 MiB/107.2 MiB (104.2 MiB/s) with 1 file(s) remaining\r",
      "Completed 94.8 MiB/107.2 MiB (104.3 MiB/s) with 1 file(s) remaining\r",
      "Completed 95.0 MiB/107.2 MiB (104.4 MiB/s) with 1 file(s) remaining\r",
      "Completed 95.2 MiB/107.2 MiB (104.3 MiB/s) with 1 file(s) remaining\r",
      "Completed 95.4 MiB/107.2 MiB (104.4 MiB/s) with 1 file(s) remaining\r",
      "Completed 95.7 MiB/107.2 MiB (104.6 MiB/s) with 1 file(s) remaining\r",
      "Completed 95.9 MiB/107.2 MiB (104.8 MiB/s) with 1 file(s) remaining\r",
      "Completed 96.2 MiB/107.2 MiB (104.9 MiB/s) with 1 file(s) remaining\r",
      "Completed 96.4 MiB/107.2 MiB (105.1 MiB/s) with 1 file(s) remaining\r",
      "Completed 96.7 MiB/107.2 MiB (105.2 MiB/s) with 1 file(s) remaining\r",
      "Completed 96.9 MiB/107.2 MiB (105.1 MiB/s) with 1 file(s) remaining\r",
      "Completed 97.2 MiB/107.2 MiB (104.8 MiB/s) with 1 file(s) remaining\r",
      "Completed 97.4 MiB/107.2 MiB (104.8 MiB/s) with 1 file(s) remaining\r",
      "Completed 97.7 MiB/107.2 MiB (105.0 MiB/s) with 1 file(s) remaining\r",
      "Completed 97.9 MiB/107.2 MiB (105.3 MiB/s) with 1 file(s) remaining\r",
      "Completed 98.2 MiB/107.2 MiB (105.4 MiB/s) with 1 file(s) remaining\r",
      "Completed 98.4 MiB/107.2 MiB (105.6 MiB/s) with 1 file(s) remaining\r",
      "Completed 98.7 MiB/107.2 MiB (105.0 MiB/s) with 1 file(s) remaining\r",
      "Completed 98.9 MiB/107.2 MiB (105.2 MiB/s) with 1 file(s) remaining\r",
      "Completed 99.2 MiB/107.2 MiB (105.3 MiB/s) with 1 file(s) remaining\r",
      "Completed 99.4 MiB/107.2 MiB (105.5 MiB/s) with 1 file(s) remaining\r",
      "Completed 99.7 MiB/107.2 MiB (105.4 MiB/s) with 1 file(s) remaining\r",
      "Completed 99.9 MiB/107.2 MiB (105.6 MiB/s) with 1 file(s) remaining\r",
      "Completed 100.2 MiB/107.2 MiB (105.7 MiB/s) with 1 file(s) remaining\r",
      "Completed 100.4 MiB/107.2 MiB (105.6 MiB/s) with 1 file(s) remaining\r",
      "Completed 100.7 MiB/107.2 MiB (105.7 MiB/s) with 1 file(s) remaining\r",
      "Completed 100.9 MiB/107.2 MiB (105.8 MiB/s) with 1 file(s) remaining\r",
      "Completed 101.2 MiB/107.2 MiB (105.5 MiB/s) with 1 file(s) remaining\r",
      "Completed 101.4 MiB/107.2 MiB (105.6 MiB/s) with 1 file(s) remaining\r",
      "Completed 101.7 MiB/107.2 MiB (105.8 MiB/s) with 1 file(s) remaining\r",
      "Completed 101.9 MiB/107.2 MiB (105.9 MiB/s) with 1 file(s) remaining\r",
      "Completed 102.2 MiB/107.2 MiB (105.6 MiB/s) with 1 file(s) remaining\r",
      "Completed 102.4 MiB/107.2 MiB (105.6 MiB/s) with 1 file(s) remaining\r",
      "Completed 102.7 MiB/107.2 MiB (105.5 MiB/s) with 1 file(s) remaining\r",
      "Completed 102.9 MiB/107.2 MiB (105.7 MiB/s) with 1 file(s) remaining\r",
      "Completed 103.2 MiB/107.2 MiB (105.9 MiB/s) with 1 file(s) remaining\r",
      "Completed 103.4 MiB/107.2 MiB (106.0 MiB/s) with 1 file(s) remaining\r",
      "Completed 103.7 MiB/107.2 MiB (106.1 MiB/s) with 1 file(s) remaining\r",
      "Completed 103.9 MiB/107.2 MiB (106.1 MiB/s) with 1 file(s) remaining\r",
      "Completed 104.2 MiB/107.2 MiB (106.0 MiB/s) with 1 file(s) remaining\r",
      "Completed 104.4 MiB/107.2 MiB (106.1 MiB/s) with 1 file(s) remaining\r",
      "Completed 104.7 MiB/107.2 MiB (106.3 MiB/s) with 1 file(s) remaining\r",
      "Completed 104.9 MiB/107.2 MiB (106.3 MiB/s) with 1 file(s) remaining\r",
      "Completed 105.2 MiB/107.2 MiB (105.9 MiB/s) with 1 file(s) remaining\r",
      "Completed 105.4 MiB/107.2 MiB (106.1 MiB/s) with 1 file(s) remaining\r",
      "Completed 105.7 MiB/107.2 MiB (105.8 MiB/s) with 1 file(s) remaining\r",
      "Completed 105.9 MiB/107.2 MiB (105.5 MiB/s) with 1 file(s) remaining\r",
      "Completed 106.2 MiB/107.2 MiB (105.2 MiB/s) with 1 file(s) remaining\r",
      "Completed 106.4 MiB/107.2 MiB (104.9 MiB/s) with 1 file(s) remaining\r",
      "Completed 106.7 MiB/107.2 MiB (104.7 MiB/s) with 1 file(s) remaining\r",
      "Completed 106.9 MiB/107.2 MiB (104.5 MiB/s) with 1 file(s) remaining\r",
      "Completed 107.2 MiB/107.2 MiB (104.7 MiB/s) with 1 file(s) remaining\r",
      "download: s3://lfs401-2019reinvent-public-cmh/source/drugsCom_raw.tsv to source/drugsCom_raw.tsv\n"
     ]
    }
   ],
   "source": [
    "%%bash\n",
    "aws s3 cp s3://lfs401-2019reinvent-public-cmh/output.tgz .\n",
    "aws s3 cp s3://lfs401-2019reinvent-public-cmh/source/drugsCom_raw.tsv source/\n",
    "tar xzf output.tgz\n"
   ]
  },
  {
   "cell_type": "code",
   "execution_count": 19,
   "metadata": {},
   "outputs": [
    {
     "name": "stdout",
     "output_type": "stream",
     "text": [
      "Comprehend Medical Output Path: /home/ec2-user/SageMaker/output/037062425811-EntitiesDetection-905a864b1f9841b6c379ca3727de0499\n"
     ]
    },
    {
     "data": {
      "text/plain": [
       "'/home/ec2-user/SageMaker/output/037062425811-EntitiesDetection-905a864b1f9841b6c379ca3727de0499'"
      ]
     },
     "execution_count": 19,
     "metadata": {},
     "output_type": "execute_result"
    }
   ],
   "source": [
    "mypath = os.getcwd()\n",
    "output_path = os.path.join(mypath,'output', [_ for _ in os.listdir('output') if os.path.isdir(os.path.join('output',_))][0])\n",
    "\n",
    "print ('Comprehend Medical Output Path: %s' % output_path)\n",
    "os.chdir(output_path)\n",
    "os.getcwd()"
   ]
  },
  {
   "cell_type": "markdown",
   "metadata": {},
   "source": [
    "#### Check number of files - should be 215063"
   ]
  },
  {
   "cell_type": "code",
   "execution_count": 20,
   "metadata": {},
   "outputs": [
    {
     "name": "stdout",
     "output_type": "stream",
     "text": [
      "215063\r\n"
     ]
    }
   ],
   "source": [
    "! ls -1 | grep -v Manifest | wc -l"
   ]
  },
  {
   "cell_type": "markdown",
   "metadata": {},
   "source": [
    "#### Next, iterate through each file. If the file is a valid output name, add it to a dictionary. The file format should look similar to `12345.json.out`, where the numeric value is the id for the entry"
   ]
  },
  {
   "cell_type": "code",
   "execution_count": 21,
   "metadata": {},
   "outputs": [],
   "source": [
    "def get_topics_from_file(filename):\n",
    "    with open(filename) as f:\n",
    "        return json.load(f)"
   ]
  },
  {
   "cell_type": "code",
   "execution_count": 22,
   "metadata": {},
   "outputs": [
    {
     "name": "stdout",
     "output_type": "stream",
     "text": [
      "10000\n",
      "20000\n",
      "30000\n",
      "40000\n",
      "50000\n",
      "60000\n",
      "70000\n",
      "80000\n",
      "90000\n",
      "100000\n",
      "110000\n",
      "120000\n",
      "130000\n",
      "140000\n",
      "150000\n",
      "160000\n",
      "170000\n",
      "180000\n",
      "190000\n",
      "200000\n",
      "210000\n"
     ]
    }
   ],
   "source": [
    "results_dict = dict()\n",
    "counter = 0\n",
    "with os.scandir(output_path) as it:\n",
    "    for entry in it:\n",
    "        if not (entry.name.startswith('.') or entry.name.startswith('Manifest')) and entry.is_file():\n",
    "            d = get_topics_from_file(entry)\n",
    "            id = entry.name.split('.')[0]\n",
    "            \n",
    "            results_dict[id] = d\n",
    "        counter += 1\n",
    "        if counter % 10000 == 0:\n",
    "            print (counter)"
   ]
  },
  {
   "cell_type": "code",
   "execution_count": 23,
   "metadata": {},
   "outputs": [
    {
     "data": {
      "text/plain": [
       "215063"
      ]
     },
     "execution_count": 23,
     "metadata": {},
     "output_type": "execute_result"
    }
   ],
   "source": [
    "len(results_dict)"
   ]
  },
  {
   "cell_type": "markdown",
   "metadata": {},
   "source": [
    "#### Read in original files and iterate through to create a list of python dictionaries containing `id`, `drug name`, `condition`, and `review`"
   ]
  },
  {
   "cell_type": "code",
   "execution_count": 24,
   "metadata": {},
   "outputs": [],
   "source": [
    "filename = 'drugsCom_raw.tsv'\n",
    "os.chdir(os.path.join(mypath, 'source'))\n",
    "orig_list = list()\n",
    "\n",
    "with open(filename) as csvfile:\n",
    "    myreader = csv.reader(csvfile, delimiter='\\t')\n",
    "    for row in myreader:\n",
    "        if row[0] == '':\n",
    "            continue\n",
    "        else:\n",
    "            orig_list.append({\n",
    "                'id': row[0],\n",
    "                'drugName': row[1],\n",
    "                'condition': row[2],\n",
    "                'review': row[3]\n",
    "            })"
   ]
  },
  {
   "cell_type": "markdown",
   "metadata": {},
   "source": [
    "#### Confirm the length of the dictionary you lozaded in is the same as in the original file"
   ]
  },
  {
   "cell_type": "code",
   "execution_count": 25,
   "metadata": {},
   "outputs": [
    {
     "data": {
      "text/plain": [
       "True"
      ]
     },
     "execution_count": 25,
     "metadata": {},
     "output_type": "execute_result"
    }
   ],
   "source": [
    "len(orig_list) == len(results_dict)"
   ]
  },
  {
   "cell_type": "markdown",
   "metadata": {},
   "source": [
    "#### Now, create a list for each entry that contains the index, drug name, and list of topics identified by Comprehend Medical. This is effectively an application inner join on index for `orig_list` and `result_dict`"
   ]
  },
  {
   "cell_type": "code",
   "execution_count": 26,
   "metadata": {},
   "outputs": [],
   "source": [
    "topics_per_row = list()\n",
    "topic_count = 1\n",
    "\n",
    "for entry in orig_list:\n",
    "    index = entry['id']\n",
    "    drugName = entry['drugName']\n",
    "    v = results_dict[index]\n",
    "\n",
    "    topic_list = []\n",
    "    for entity in v['Entities']:\n",
    "        if entity['Category'] == 'MEDICAL_CONDITION':\n",
    "            topic_list.append(entity['Text'])\n",
    "            topic_count += 1\n",
    "    \n",
    "    topic_dict = dict(\n",
    "        Index=index,\n",
    "        DrugName=drugName,\n",
    "        TopicList=topic_list\n",
    "    )\n",
    "    topics_per_row.append(topic_dict)"
   ]
  },
  {
   "cell_type": "code",
   "execution_count": 27,
   "metadata": {},
   "outputs": [
    {
     "data": {
      "text/plain": [
       "True"
      ]
     },
     "execution_count": 27,
     "metadata": {},
     "output_type": "execute_result"
    }
   ],
   "source": [
    "len(topics_per_row) == len(orig_list)"
   ]
  },
  {
   "cell_type": "markdown",
   "metadata": {},
   "source": [
    "#### Let's look at an example"
   ]
  },
  {
   "cell_type": "code",
   "execution_count": 28,
   "metadata": {},
   "outputs": [
    {
     "data": {
      "text/plain": [
       "[{'Index': '206461', 'DrugName': 'Valsartan', 'TopicList': ['side effect']},\n",
       " {'Index': '95260',\n",
       "  'DrugName': 'Guanfacine',\n",
       "  'TopicList': ['remembering', 'behavior is better']},\n",
       " {'Index': '92703',\n",
       "  'DrugName': 'Lybrel',\n",
       "  'TopicList': ['light periods', 'side effects', 'side effects']},\n",
       " {'Index': '138000',\n",
       "  'DrugName': 'Ortho Evra',\n",
       "  'TopicList': ['decreased my libido', 'periods', 'cramps', 'cramps']},\n",
       " {'Index': '35696',\n",
       "  'DrugName': 'Buprenorphine / naloxone',\n",
       "  'TopicList': ['constipation']}]"
      ]
     },
     "execution_count": 28,
     "metadata": {},
     "output_type": "execute_result"
    }
   ],
   "source": [
    "topics_per_row[0:5]"
   ]
  },
  {
   "cell_type": "markdown",
   "metadata": {},
   "source": [
    "#### Now plot a histogram showing the distribution of number of topics per entry"
   ]
  },
  {
   "cell_type": "code",
   "execution_count": 29,
   "metadata": {},
   "outputs": [
    {
     "data": {
      "text/plain": [
       "Text(0.5, 0, 'Number of topics')"
      ]
     },
     "execution_count": 29,
     "metadata": {},
     "output_type": "execute_result"
    },
    {
     "data": {
      "image/png": "[encoded data removed]",
      "text/plain": [
       "<Figure size 432x288 with 1 Axes>"
      ]
     },
     "metadata": {},
     "output_type": "display_data"
    }
   ],
   "source": [
    "topic_count = [ len(_['TopicList']) for _ in topics_per_row]\n",
    "plt.hist(topic_count,bins=20,label='Topic Count', range=(0,30))\n",
    "plt.xlabel('Number of topics')"
   ]
  },
  {
   "cell_type": "markdown",
   "metadata": {},
   "source": [
    "#### For this example, we select 5 topics per entry. All entries with fewer than 5 relevant topics identified by Comprehend Medical are discarded. This yields ~80k distinct entries. "
   ]
  },
  {
   "cell_type": "code",
   "execution_count": 30,
   "metadata": {},
   "outputs": [
    {
     "name": "stdout",
     "output_type": "stream",
     "text": [
      "CPU times: user 692 ms, sys: 29.2 ms, total: 721 ms\n",
      "Wall time: 728 ms\n"
     ]
    }
   ],
   "source": [
    "%%time\n",
    "\n",
    "min_topic_len = 5\n",
    "counter = 0\n",
    "review_list = []\n",
    "\n",
    "for row in topics_per_row:\n",
    "    topic_list = row['TopicList']\n",
    "    if len(topic_list) >= min_topic_len:\n",
    "        # Randomly select topics\n",
    "        random_topics = random.choices(topic_list, k=min_topic_len)\n",
    "        review_list.append({\n",
    "            'drugName' : row['DrugName'],\n",
    "            'topic1' : str(random_topics[0]),\n",
    "            'topic2' : str(random_topics[1]),\n",
    "            'topic3' : str(random_topics[2]),\n",
    "            'topic4' : str(random_topics[3]),\n",
    "            'topic5' : str(random_topics[4])})\n",
    "        \n",
    "reviews = pd.DataFrame(review_list)"
   ]
  },
  {
   "cell_type": "code",
   "execution_count": 31,
   "metadata": {},
   "outputs": [
    {
     "data": {
      "text/plain": [
       "(80050, 6)"
      ]
     },
     "execution_count": 31,
     "metadata": {},
     "output_type": "execute_result"
    }
   ],
   "source": [
    "reviews.shape"
   ]
  },
  {
   "cell_type": "code",
   "execution_count": 32,
   "metadata": {},
   "outputs": [
    {
     "data": {
      "text/html": [
       "<div>\n",
       "<style scoped>\n",
       "    .dataframe tbody tr th:only-of-type {\n",
       "        vertical-align: middle;\n",
       "    }\n",
       "\n",
       "    .dataframe tbody tr th {\n",
       "        vertical-align: top;\n",
       "    }\n",
       "\n",
       "    .dataframe thead th {\n",
       "        text-align: right;\n",
       "    }\n",
       "</style>\n",
       "<table border=\"1\" class=\"dataframe\">\n",
       "  <thead>\n",
       "    <tr style=\"text-align: right;\">\n",
       "      <th></th>\n",
       "      <th>drugName</th>\n",
       "      <th>topic1</th>\n",
       "      <th>topic2</th>\n",
       "      <th>topic3</th>\n",
       "      <th>topic4</th>\n",
       "      <th>topic5</th>\n",
       "    </tr>\n",
       "  </thead>\n",
       "  <tbody>\n",
       "    <tr>\n",
       "      <th>0</th>\n",
       "      <td>Cialis</td>\n",
       "      <td>headache</td>\n",
       "      <td>hurt</td>\n",
       "      <td>headache</td>\n",
       "      <td>side effects</td>\n",
       "      <td>erections</td>\n",
       "    </tr>\n",
       "    <tr>\n",
       "      <th>1</th>\n",
       "      <td>Aripiprazole</td>\n",
       "      <td>moods</td>\n",
       "      <td>hopeless</td>\n",
       "      <td>depression</td>\n",
       "      <td>Bi-polar disorder</td>\n",
       "      <td>depressed</td>\n",
       "    </tr>\n",
       "    <tr>\n",
       "      <th>2</th>\n",
       "      <td>Ethinyl estradiol / levonorgestrel</td>\n",
       "      <td>weight gain</td>\n",
       "      <td>weight gain</td>\n",
       "      <td>depression</td>\n",
       "      <td>weight gain</td>\n",
       "      <td>depressed</td>\n",
       "    </tr>\n",
       "    <tr>\n",
       "      <th>3</th>\n",
       "      <td>Topiramate</td>\n",
       "      <td>headaches</td>\n",
       "      <td>weight loss</td>\n",
       "      <td>migraines</td>\n",
       "      <td>weight loss</td>\n",
       "      <td>side effect</td>\n",
       "    </tr>\n",
       "    <tr>\n",
       "      <th>4</th>\n",
       "      <td>Pentasa</td>\n",
       "      <td>flare</td>\n",
       "      <td>body aching</td>\n",
       "      <td>heart palpitations</td>\n",
       "      <td>narrowing</td>\n",
       "      <td>narrowing</td>\n",
       "    </tr>\n",
       "  </tbody>\n",
       "</table>\n",
       "</div>"
      ],
      "text/plain": [
       "                             drugName       topic1       topic2  \\\n",
       "0                              Cialis     headache         hurt   \n",
       "1                        Aripiprazole        moods     hopeless   \n",
       "2  Ethinyl estradiol / levonorgestrel  weight gain  weight gain   \n",
       "3                          Topiramate    headaches  weight loss   \n",
       "4                             Pentasa        flare  body aching   \n",
       "\n",
       "               topic3             topic4       topic5  \n",
       "0            headache       side effects    erections  \n",
       "1          depression  Bi-polar disorder    depressed  \n",
       "2          depression        weight gain    depressed  \n",
       "3           migraines        weight loss  side effect  \n",
       "4  heart palpitations          narrowing    narrowing  "
      ]
     },
     "execution_count": 32,
     "metadata": {},
     "output_type": "execute_result"
    }
   ],
   "source": [
    "reviews.head()"
   ]
  },
  {
   "cell_type": "markdown",
   "metadata": {},
   "source": [
    "#### Now that we have identified the topics, save the full file, as well as subsamples to S3"
   ]
  },
  {
   "cell_type": "code",
   "execution_count": 33,
   "metadata": {},
   "outputs": [],
   "source": [
    "def write_files_to_disk_and_s3(bucket_name, s3_uri_base, sample_nums, reviews):\n",
    "    for sample_num in sample_nums:\n",
    "        print (sample_num)\n",
    "        path = 'reviews_%ssample.csv' % str(sample_num)\n",
    "        write_file_to_disk_and_s3(bucket_name, s3_uri_base, path, sample_num, reviews)\n",
    "    print ('all reviews')\n",
    "    write_file_to_disk_and_s3(bucket_name, s3_uri_base, 'reviews_all.csv', reviews.shape[0], reviews)\n",
    "\n",
    "def write_file_to_disk_and_s3(bucket_name, s3_uri_base, path, sample_num, reviews):\n",
    "    s3_client = boto3.client('s3')\n",
    "    s3_key = s3_uri_base.rstrip('/') + '/' + path\n",
    "    sampled_reviews = reviews.sample(n=sample_num)\n",
    "    sampled_reviews.to_csv(path, header=True, index=False)\n",
    "    s3_client.upload_file(path, bucket_name, s3_key)\n"
   ]
  },
  {
   "cell_type": "code",
   "execution_count": 34,
   "metadata": {},
   "outputs": [
    {
     "name": "stdout",
     "output_type": "stream",
     "text": [
      "1000\n",
      "2000\n",
      "5000\n",
      "10000\n",
      "20000\n",
      "50000\n",
      "all reviews\n"
     ]
    }
   ],
   "source": [
    "sample_numbers = [1000, 2000, 5000, 10000, 20000, 50000]\n",
    "s3_uri_base = 'reviews/'\n",
    "write_files_to_disk_and_s3(sagemaker_bucket, reviews_data_prefix, sample_numbers, reviews)"
   ]
  },
  {
   "cell_type": "markdown",
   "metadata": {},
   "source": [
    "## Congrats! You are done with data prep. Move to the next notebook."
   ]
  }
 ],
 "metadata": {
  "kernelspec": {
   "display_name": "conda_python3",
   "language": "python",
   "name": "conda_python3"
  },
  "language_info": {
   "codemirror_mode": {
    "name": "ipython",
    "version": 3
   },
   "file_extension": ".py",
   "mimetype": "text/x-python",
   "name": "python",
   "nbconvert_exporter": "python",
   "pygments_lexer": "ipython3",
   "version": "3.6.5"
  }
 },
 "nbformat": 4,
 "nbformat_minor": 4
}
